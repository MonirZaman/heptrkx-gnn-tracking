{
 "cells": [
  {
   "cell_type": "markdown",
   "metadata": {},
   "source": [
    "# Profiling summary\n",
    "* Ivy bridge performs better than Knights Landing in terms of runtime\n",
    "* Layer-norm calculation is the third expensive calculation after backward propagation and scatter_add"
   ]
  },
  {
   "cell_type": "code",
   "execution_count": 10,
   "metadata": {},
   "outputs": [],
   "source": [
    "import cProfile as p\n",
    "import pstats\n",
    "\n",
    "st = {'iv24' : pstats.Stats('results/gnn_profile_output_iv24'),\n",
    "      'knl' : pstats.Stats('results/gnn_profile_output_knl')}"
   ]
  },
  {
   "cell_type": "code",
   "execution_count": 11,
   "metadata": {},
   "outputs": [
    {
     "name": "stdout",
     "output_type": "stream",
     "text": [
      "Hardwire: iv24, Total time: 499.2061369999893\n",
      "Hardwire: knl, Total time: 3355.2917809999926\n"
     ]
    }
   ],
   "source": [
    "for s, o in st.items():\n",
    "    print(\"Hardwire: {}, Total time: {}\".format(s, o.total_tt))"
   ]
  },
  {
   "cell_type": "code",
   "execution_count": 6,
   "metadata": {},
   "outputs": [
    {
     "name": "stdout",
     "output_type": "stream",
     "text": [
      "Tue Oct 29 23:26:57 2019    results/gnn_profile_output_knl\n",
      "\n",
      "         10029108 function calls (9886043 primitive calls) in 3355.292 seconds\n",
      "\n",
      "   Ordered by: internal time\n",
      "   List reduced from 9579 to 10 due to restriction <10>\n",
      "\n",
      "   ncalls  tottime  percall  cumtime  percall filename:lineno(function)\n",
      "      250 2437.049    9.748 2437.049    9.748 {method 'run_backward' of 'torch._C._EngineBase' objects}\n",
      "     6000  490.209    0.082  490.209    0.082 {method 'scatter_add_' of 'torch._C._TensorBase' objects}\n",
      "    22500  183.695    0.008  183.695    0.008 {built-in method layer_norm}\n",
      "     9750   78.782    0.008   78.782    0.008 {built-in method cat}\n",
      "    25875   20.474    0.001   20.474    0.001 {built-in method addmm}\n",
      "     3375   16.368    0.005  230.170    0.068 agnn.py:33(forward)\n",
      "    22500   15.581    0.001   15.581    0.001 {built-in method tanh}\n",
      "     3000   11.375    0.004  592.542    0.198 agnn.py:56(forward)\n",
      "     8764    7.868    0.001    7.868    0.001 {built-in method posix.stat}\n",
      "  205/204    5.570    0.027    5.580    0.027 {built-in method _imp.create_dynamic}\n",
      "\n",
      "\n"
     ]
    },
    {
     "data": {
      "text/plain": [
       "<pstats.Stats at 0x1116b9208>"
      ]
     },
     "execution_count": 6,
     "metadata": {},
     "output_type": "execute_result"
    }
   ],
   "source": [
    "iv24 = st[\"iv24\"]\n",
    "knl = st[\"knl\"]"
   ]
  },
  {
   "cell_type": "markdown",
   "metadata": {},
   "source": [
    "## KNL stats"
   ]
  },
  {
   "cell_type": "code",
   "execution_count": 7,
   "metadata": {},
   "outputs": [
    {
     "name": "stdout",
     "output_type": "stream",
     "text": [
      "Tue Oct 29 23:26:57 2019    results/gnn_profile_output_knl\n",
      "\n",
      "         10029108 function calls (9886043 primitive calls) in 3355.292 seconds\n",
      "\n",
      "   Ordered by: internal time\n",
      "   List reduced from 9579 to 10 due to restriction <10>\n",
      "\n",
      "   ncalls  tottime  percall  cumtime  percall filename:lineno(function)\n",
      "      250 2437.049    9.748 2437.049    9.748 {method 'run_backward' of 'torch._C._EngineBase' objects}\n",
      "     6000  490.209    0.082  490.209    0.082 {method 'scatter_add_' of 'torch._C._TensorBase' objects}\n",
      "    22500  183.695    0.008  183.695    0.008 {built-in method layer_norm}\n",
      "     9750   78.782    0.008   78.782    0.008 {built-in method cat}\n",
      "    25875   20.474    0.001   20.474    0.001 {built-in method addmm}\n",
      "     3375   16.368    0.005  230.170    0.068 agnn.py:33(forward)\n",
      "    22500   15.581    0.001   15.581    0.001 {built-in method tanh}\n",
      "     3000   11.375    0.004  592.542    0.198 agnn.py:56(forward)\n",
      "     8764    7.868    0.001    7.868    0.001 {built-in method posix.stat}\n",
      "  205/204    5.570    0.027    5.580    0.027 {built-in method _imp.create_dynamic}\n",
      "\n",
      "\n"
     ]
    },
    {
     "data": {
      "text/plain": [
       "<pstats.Stats at 0x1116b9208>"
      ]
     },
     "execution_count": 7,
     "metadata": {},
     "output_type": "execute_result"
    }
   ],
   "source": [
    "knl.strip_dirs().sort_stats(\"tottime\").print_stats(10)"
   ]
  },
  {
   "cell_type": "markdown",
   "metadata": {},
   "source": [
    "## IVY 24 stats"
   ]
  },
  {
   "cell_type": "code",
   "execution_count": 9,
   "metadata": {},
   "outputs": [
    {
     "name": "stdout",
     "output_type": "stream",
     "text": [
      "Tue Oct 29 23:26:57 2019    results/gnn_profile_output_iv24\n",
      "\n",
      "         10213373 function calls (10070319 primitive calls) in 499.206 seconds\n",
      "\n",
      "   Ordered by: internal time\n",
      "   List reduced from 9557 to 10 due to restriction <10>\n",
      "\n",
      "   ncalls  tottime  percall  cumtime  percall filename:lineno(function)\n",
      "      250  330.024    1.320  330.024    1.320 {method 'run_backward' of 'torch._C._EngineBase' objects}\n",
      "     6000   51.162    0.009   51.162    0.009 {method 'scatter_add_' of 'torch._C._TensorBase' objects}\n",
      "    22500   44.128    0.002   44.128    0.002 {built-in method layer_norm}\n",
      "     9750   22.587    0.002   22.587    0.002 {built-in method cat}\n",
      "    25875   14.368    0.001   14.368    0.001 {built-in method addmm}\n",
      "    22500    7.595    0.000    7.595    0.000 {built-in method tanh}\n",
      "     3375    5.293    0.002   67.607    0.020 agnn.py:33(forward)\n",
      "     3000    3.720    0.001   80.227    0.027 agnn.py:56(forward)\n",
      "  205/204    1.694    0.008    1.696    0.008 {built-in method _imp.create_dynamic}\n",
      "     1643    1.454    0.001    2.119    0.001 <frozen importlib._bootstrap_external>:830(get_data)\n",
      "\n",
      "\n"
     ]
    },
    {
     "data": {
      "text/plain": [
       "<pstats.Stats at 0x110ec0c50>"
      ]
     },
     "execution_count": 9,
     "metadata": {},
     "output_type": "execute_result"
    }
   ],
   "source": [
    "iv24.strip_dirs().sort_stats(\"tottime\").print_stats(10)"
   ]
  },
  {
   "cell_type": "markdown",
   "metadata": {},
   "source": [
    "## Configuration of the experiments"
   ]
  },
  {
   "cell_type": "markdown",
   "metadata": {},
   "source": [
    "* Launch command  \n",
    "```\n",
    "srun -N 1 -n 1 --ntasks-per-node 1 python -m cProfile -s time -o profile_output train.py configs/agnn-sr.yaml\n",
    "```\n",
    "* Training records: 200\n",
    "* Validation records: 100 \n",
    "* Training n_epochs: 5\n"
   ]
  },
  {
   "cell_type": "code",
   "execution_count": null,
   "metadata": {},
   "outputs": [],
   "source": []
  }
 ],
 "metadata": {
  "kernelspec": {
   "display_name": "Python 3",
   "language": "python",
   "name": "python3"
  },
  "language_info": {
   "codemirror_mode": {
    "name": "ipython",
    "version": 3
   },
   "file_extension": ".py",
   "mimetype": "text/x-python",
   "name": "python",
   "nbconvert_exporter": "python",
   "pygments_lexer": "ipython3",
   "version": "3.7.3"
  }
 },
 "nbformat": 4,
 "nbformat_minor": 2
}
