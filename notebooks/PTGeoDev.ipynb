{
 "cells": [
  {
   "cell_type": "markdown",
   "metadata": {},
   "source": [
    "# Development of PyTorch Geometric model\n",
    "\n",
    "I'll use this notebook to play with and develop the code for the GNN implementation based on the pytorch_geometric library."
   ]
  },
  {
   "cell_type": "markdown",
   "metadata": {},
   "source": [
    "## References"
   ]
  },
  {
   "cell_type": "markdown",
   "metadata": {},
   "source": [
    "PyTorch Geometric documentation:\n",
    "http://rusty1s.github.io/pytorch_geometric\n",
    "\n",
    "MetaLayer documentation: https://rusty1s.github.io/pytorch_geometric/build/html/modules/nn.html#torch_geometric.nn.meta.MetaLayer"
   ]
  },
  {
   "cell_type": "markdown",
   "metadata": {},
   "source": [
    "## Imports"
   ]
  },
  {
   "cell_type": "code",
   "execution_count": 1,
   "metadata": {},
   "outputs": [],
   "source": [
    "import torch\n",
    "import torch.nn as nn\n",
    "from torch.utils.data import Dataset, DataLoader\n",
    "\n",
    "import torch_geometric\n",
    "from torch_geometric.nn import MetaLayer\n",
    "from torch_scatter import scatter_add\n",
    "from torch_sparse import coalesce\n",
    "\n",
    "import matplotlib.pyplot as plt"
   ]
  },
  {
   "cell_type": "code",
   "execution_count": 2,
   "metadata": {},
   "outputs": [],
   "source": [
    "%matplotlib inline"
   ]
  },
  {
   "cell_type": "markdown",
   "metadata": {},
   "source": [
    "## Define a simple GNN layer\n",
    "\n",
    "I'm going to try something which differs from the documentation. I'm going to try and define the edge and node parts as individual modules, and then a graph layer module which wraps those, then a GNN model which loops over graph layers."
   ]
  },
  {
   "cell_type": "raw",
   "metadata": {},
   "source": [
    "class EdgeModule(nn.Module):\n",
    "    \"\"\"A trivial pass-through edge module\"\"\"\n",
    "    \n",
    "    def __init__(self, node_dim, edge_dim, hidden_dim):\n",
    "        super(EdgeModule, self).__init__()\n",
    "        self.network = nn.Sequential(\n",
    "            nn.Linear(2*node_dim + edge_dim, hidden_dim),\n",
    "            nn.ReLU(),\n",
    "            nn.Linear(hidden_dim, edge_dim),\n",
    "            nn.ReLU()\n",
    "        )\n",
    "\n",
    "    def forward(self, x_sender, x_receiver, e, batch=None):\n",
    "        inputs = torch.cat([x_sender, x_receiver, e], 1)\n",
    "        return self.network(inputs)\n",
    "\n",
    "class NodeModule(nn.Module):\n",
    "    \"\"\"A simple node module\"\"\"\n",
    "    \n",
    "    def __init__(self, node_dim, edge_dim, hidden_dim):\n",
    "        super(NodeModule, self).__init__()\n",
    "        self.network = nn.Sequential(\n",
    "            nn.Linear(edge_dim + node_dim, hidden_dim),\n",
    "            nn.ReLU(),\n",
    "            nn.Linear(hidden_dim, node_dim),\n",
    "            nn.ReLU()\n",
    "        )\n",
    "\n",
    "    def forward(self, x, edge_index, e, batch=None):\n",
    "        # Sum edge features at each receiver\n",
    "        senders, receivers = edge_index\n",
    "        aggr = scatter_add(e, receivers, dim=0)\n",
    "        inputs = torch.cat([x, aggr], 1)\n",
    "        return self.network(inputs)\n",
    "\n",
    "class GNN(nn.Module):\n",
    "    \"\"\"A simple graph network\"\"\"\n",
    "    \n",
    "    def __init__(self, input_node_dim, input_edge_dim,\n",
    "                 hidden_node_dim, hidden_edge_dim, \n",
    "                 n_graph_iters=1):\n",
    "        super(GNN, self).__init__()\n",
    "        self.n_graph_iters = n_graph_iters\n",
    "        self.node_encoder\n",
    "        self.graph_layer = MetaLayer(\n",
    "            edge_model=EdgeModule(input_node_dim, input_edge_dim, hidden_edge_dim),\n",
    "            node_model=NodeModule(input_node_dim, input_edge_dim, hidden_node_dim)\n",
    "        )\n",
    "        \n",
    "    def forward(self, data):\n",
    "        return self.graph_layer(data.x, data.edge_index, data.edge_attr)"
   ]
  },
  {
   "cell_type": "code",
   "execution_count": 3,
   "metadata": {},
   "outputs": [],
   "source": [
    "class GNN(nn.Module):\n",
    "    \"\"\"A simple graph network\"\"\"\n",
    "    \n",
    "    def __init__(self, input_node_dim, input_edge_dim,\n",
    "                 hidden_node_dim, hidden_edge_dim, \n",
    "                 n_graph_iters=1):\n",
    "        super(GNN, self).__init__()\n",
    "        self.n_graph_iters = n_graph_iters\n",
    "        \n",
    "        # The node encoder transforms input node features to the hidden space\n",
    "        self.node_encoder = nn.Sequential(\n",
    "            nn.Linear(input_node_dim, hidden_node_dim),\n",
    "            nn.ReLU()\n",
    "        )\n",
    "        # Similarly, the edge encoder transforms input edge features to hidden space\n",
    "        self.edge_encoder = nn.Sequential(\n",
    "            nn.Linear(input_edge_dim, hidden_edge_dim),\n",
    "            nn.ReLU()\n",
    "        )\n",
    "        # The edge network computes new edge features\n",
    "        self.edge_network = nn.Sequential(\n",
    "            nn.Linear(2*hidden_node_dim + hidden_edge_dim, hidden_edge_dim),\n",
    "            nn.ReLU(),\n",
    "            nn.Linear(hidden_edge_dim, hidden_edge_dim),\n",
    "            nn.ReLU()\n",
    "        )\n",
    "        # The node network computes new node features\n",
    "        self.node_network = nn.Sequential(\n",
    "            nn.Linear(hidden_node_dim + hidden_edge_dim, hidden_node_dim),\n",
    "            nn.ReLU(),\n",
    "            nn.Linear(hidden_node_dim, hidden_node_dim),\n",
    "            nn.ReLU()\n",
    "        )\n",
    "        # The edge classifier computes final edge scores\n",
    "        self.edge_classifier = nn.Sequential(\n",
    "            nn.Linear(2*hidden_node_dim + hidden_edge_dim, hidden_edge_dim),\n",
    "            nn.ReLU(),\n",
    "            nn.Linear(hidden_edge_dim, 1),\n",
    "            nn.Sigmoid()\n",
    "        )\n",
    "    \n",
    "    def forward(self, data):\n",
    "        # Make every edge bi-directional\n",
    "        send_idx = torch.cat([data.edge_index[0], data.edge_index[1]], dim=0)\n",
    "        recv_idx = torch.cat([data.edge_index[1], data.edge_index[0]], dim=0)\n",
    "\n",
    "        # Encode the graph features into the hidden space\n",
    "        x = self.node_encoder(data.x)\n",
    "        e = self.edge_encoder(data.edge_attr)\n",
    "        e = torch.cat([e, e], dim=0) # bi-directional\n",
    "\n",
    "        # Loop over graph iterations\n",
    "        for i in range(self.n_graph_iters):\n",
    "\n",
    "            # Compute new edge features\n",
    "            edge_inputs = torch.cat([x[send_idx], x[recv_idx], e], 1)\n",
    "            e = self.edge_network(edge_inputs)\n",
    "\n",
    "            # Sum edge features coming into each node\n",
    "            aggr_inputs = scatter_add(e, recv_idx, dim=0)\n",
    "\n",
    "            # Compute new node features\n",
    "            node_inputs = torch.cat([x, aggr_inputs], 1)\n",
    "            x = self.node_network(node_inputs)\n",
    "\n",
    "        # Compute final edge scores; use original edge directions only\n",
    "        start_idx, end_idx = data.edge_index\n",
    "        e = e[:start_idx.shape[0]]\n",
    "        clf_inputs = torch.cat([x[start_idx], x[end_idx], e], dim=1)\n",
    "        return self.edge_classifier(clf_inputs).squeeze(-1)"
   ]
  },
  {
   "cell_type": "markdown",
   "metadata": {},
   "source": [
    "## Create some dummy graph data"
   ]
  },
  {
   "cell_type": "code",
   "execution_count": 4,
   "metadata": {},
   "outputs": [],
   "source": [
    "def dummy_graph(n_nodes, node_dim, edge_dim):    \n",
    "    # Connect every node together\n",
    "    edge_index = torch.tensor([[i, j] for i in range(0, n_nodes) \n",
    "                               for j in range(i+1, n_nodes)]).t()\n",
    "    n_edges = edge_index.shape[1]\n",
    "    # Generate node and edge features\n",
    "    x = torch.randn(n_nodes, node_dim)\n",
    "    e = torch.randn(n_edges, edge_dim)\n",
    "    # Construct the graph\n",
    "    return torch_geometric.data.Data(x=x, edge_index=edge_index, edge_attr=e)\n",
    "\n",
    "class DummyDataset(Dataset):\n",
    "    \n",
    "    def __init__(self, n_samples, n_nodes, node_dim, edge_dim):\n",
    "        super(DummyDataset, self).__init__()\n",
    "        self.graphs = [dummy_graph(n_nodes, node_dim, edge_dim) for i in range(n_samples)]\n",
    "    \n",
    "    def __getitem__(self, index):\n",
    "        return self.graphs[index]\n",
    "    \n",
    "    def __len__(self):\n",
    "        return len(self.graphs)\n",
    "\n",
    "def draw_graph(data):\n",
    "    plt.figure()\n",
    "    plt.scatter(data.x[:,0], data.x[:,1])\n",
    "    for start, end in zip(*data.edge_index):\n",
    "        plt.plot([data.x[start, 0], data.x[end, 0]],\n",
    "                 [data.x[start, 1], data.x[end, 1]])"
   ]
  },
  {
   "cell_type": "code",
   "execution_count": 5,
   "metadata": {},
   "outputs": [],
   "source": [
    "# Dummy data config\n",
    "n_nodes = 4\n",
    "node_dim = 2\n",
    "edge_dim = 3"
   ]
  },
  {
   "cell_type": "code",
   "execution_count": 6,
   "metadata": {},
   "outputs": [],
   "source": [
    "data = dummy_graph(n_nodes, node_dim, edge_dim)"
   ]
  },
  {
   "cell_type": "code",
   "execution_count": 7,
   "metadata": {},
   "outputs": [
    {
     "data": {
      "image/png": "[encoded data removed]",
      "text/plain": [
       "<Figure size 432x288 with 1 Axes>"
      ]
     },
     "metadata": {
      "needs_background": "light"
     },
     "output_type": "display_data"
    }
   ],
   "source": [
    "draw_graph(data)"
   ]
  },
  {
   "cell_type": "markdown",
   "metadata": {},
   "source": [
    "## Test the model on some data"
   ]
  },
  {
   "cell_type": "code",
   "execution_count": 8,
   "metadata": {},
   "outputs": [],
   "source": [
    "# Model config\n",
    "hidden_node_dim = 16\n",
    "hidden_edge_dim = 16"
   ]
  },
  {
   "cell_type": "code",
   "execution_count": 9,
   "metadata": {},
   "outputs": [],
   "source": [
    "model = GNN(input_node_dim=node_dim, input_edge_dim=edge_dim,\n",
    "            hidden_node_dim=hidden_node_dim, hidden_edge_dim=hidden_edge_dim)"
   ]
  },
  {
   "cell_type": "code",
   "execution_count": 10,
   "metadata": {},
   "outputs": [
    {
     "name": "stdout",
     "output_type": "stream",
     "text": [
      "GNN(\n",
      "  (node_encoder): Sequential(\n",
      "    (0): Linear(in_features=2, out_features=16, bias=True)\n",
      "    (1): ReLU()\n",
      "  )\n",
      "  (edge_encoder): Sequential(\n",
      "    (0): Linear(in_features=3, out_features=16, bias=True)\n",
      "    (1): ReLU()\n",
      "  )\n",
      "  (edge_network): Sequential(\n",
      "    (0): Linear(in_features=48, out_features=16, bias=True)\n",
      "    (1): ReLU()\n",
      "    (2): Linear(in_features=16, out_features=16, bias=True)\n",
      "    (3): ReLU()\n",
      "  )\n",
      "  (node_network): Sequential(\n",
      "    (0): Linear(in_features=32, out_features=16, bias=True)\n",
      "    (1): ReLU()\n",
      "    (2): Linear(in_features=16, out_features=16, bias=True)\n",
      "    (3): ReLU()\n",
      "  )\n",
      "  (edge_classifier): Sequential(\n",
      "    (0): Linear(in_features=48, out_features=16, bias=True)\n",
      "    (1): ReLU()\n",
      "    (2): Linear(in_features=16, out_features=1, bias=True)\n",
      "    (3): Sigmoid()\n",
      "  )\n",
      ")\n",
      "Parameters: 2769\n"
     ]
    }
   ],
   "source": [
    "print(model)\n",
    "print('Parameters:', sum(p.numel() for p in model.parameters()))"
   ]
  },
  {
   "cell_type": "code",
   "execution_count": 11,
   "metadata": {},
   "outputs": [
    {
     "data": {
      "text/plain": [
       "tensor([0.4955, 0.4995, 0.4957, 0.5004, 0.4930, 0.4937],\n",
       "       grad_fn=<SqueezeBackward1>)"
      ]
     },
     "execution_count": 11,
     "metadata": {},
     "output_type": "execute_result"
    }
   ],
   "source": [
    "model(data)"
   ]
  },
  {
   "cell_type": "markdown",
   "metadata": {},
   "source": [
    "## Test data loader"
   ]
  },
  {
   "cell_type": "markdown",
   "metadata": {},
   "source": [
    "PyTorch geometric provides some dataset utilities, including a custom data loader. However, I don't think these add sufficient value to use them. I can just use the collate function from the data loader class and do everything else the way I normally would."
   ]
  },
  {
   "cell_type": "code",
   "execution_count": 12,
   "metadata": {},
   "outputs": [],
   "source": [
    "# Dataset config\n",
    "data_config = dict(n_samples=32, n_nodes=8, node_dim=2, edge_dim=3)"
   ]
  },
  {
   "cell_type": "code",
   "execution_count": 13,
   "metadata": {},
   "outputs": [],
   "source": [
    "dataset = DummyDataset(**data_config)"
   ]
  },
  {
   "cell_type": "code",
   "execution_count": 14,
   "metadata": {},
   "outputs": [],
   "source": [
    "from torch_geometric.data import Batch\n",
    "\n",
    "# Create a data loader\n",
    "collate_fn = Batch.from_data_list\n",
    "loader = DataLoader(dataset, batch_size=2, collate_fn=collate_fn)"
   ]
  },
  {
   "cell_type": "code",
   "execution_count": 15,
   "metadata": {},
   "outputs": [],
   "source": [
    "for data in loader:\n",
    "    break"
   ]
  },
  {
   "cell_type": "code",
   "execution_count": 16,
   "metadata": {},
   "outputs": [
    {
     "data": {
      "image/png": "[encoded data removed]",
      "text/plain": [
       "<Figure size 432x288 with 1 Axes>"
      ]
     },
     "metadata": {
      "needs_background": "light"
     },
     "output_type": "display_data"
    }
   ],
   "source": [
    "draw_graph(data)"
   ]
  },
  {
   "cell_type": "code",
   "execution_count": 17,
   "metadata": {},
   "outputs": [
    {
     "data": {
      "text/plain": [
       "torch.Size([56])"
      ]
     },
     "execution_count": 17,
     "metadata": {},
     "output_type": "execute_result"
    }
   ],
   "source": [
    "model(data).shape"
   ]
  },
  {
   "cell_type": "markdown",
   "metadata": {},
   "source": [
    "## Try to reproduce my attention GNN model in this style"
   ]
  },
  {
   "cell_type": "code",
   "execution_count": 18,
   "metadata": {},
   "outputs": [],
   "source": [
    "class EdgeNetwork(nn.Module):\n",
    "    \"\"\"\n",
    "    A module which computes weights for edges of the graph.\n",
    "    For each edge, it selects the associated nodes' features\n",
    "    and applies some fully-connected network layers with a final\n",
    "    sigmoid activation.\n",
    "    \"\"\"\n",
    "    def __init__(self, input_dim, hidden_dim=8, hidden_activation=nn.Tanh):\n",
    "        super(EdgeNetwork, self).__init__()\n",
    "        self.network = nn.Sequential(\n",
    "            nn.Linear(input_dim*2, hidden_dim),\n",
    "            nn.LayerNorm(hidden_dim),\n",
    "            hidden_activation(),\n",
    "            nn.Linear(hidden_dim, hidden_dim),\n",
    "            nn.LayerNorm(hidden_dim),\n",
    "            hidden_activation(),\n",
    "            nn.Linear(hidden_dim, hidden_dim),\n",
    "            nn.LayerNorm(hidden_dim),\n",
    "            hidden_activation(),\n",
    "            nn.Linear(hidden_dim, 1),\n",
    "            nn.Sigmoid())\n",
    "    def forward(self, x, edge_index):\n",
    "        # Select the features of the associated nodes\n",
    "        start, end = edge_index\n",
    "        x1, x2 = x[start], x[end]\n",
    "        edge_inputs = torch.cat([x[start], x[end]], dim=1)\n",
    "        return self.network(edge_inputs).squeeze(-1)\n",
    "\n",
    "class NodeNetwork(nn.Module):\n",
    "    \"\"\"\n",
    "    A module which computes new node features on the graph.\n",
    "    For each node, it aggregates the neighbor node features\n",
    "    (separately on the input and output side), and combines\n",
    "    them with the node's previous features in a fully-connected\n",
    "    network to compute the new features.\n",
    "    \"\"\"\n",
    "    def __init__(self, input_dim, output_dim, hidden_activation=nn.Tanh):\n",
    "        super(NodeNetwork, self).__init__()\n",
    "        self.network = nn.Sequential(\n",
    "            nn.Linear(input_dim*3, output_dim),\n",
    "            nn.LayerNorm(output_dim),\n",
    "            hidden_activation(),\n",
    "            nn.Linear(output_dim, output_dim),\n",
    "            nn.LayerNorm(output_dim),\n",
    "            hidden_activation(),\n",
    "            nn.Linear(output_dim, output_dim),\n",
    "            nn.LayerNorm(output_dim),\n",
    "            hidden_activation(),\n",
    "            nn.Linear(output_dim, output_dim),\n",
    "            nn.LayerNorm(output_dim),\n",
    "            hidden_activation())\n",
    "\n",
    "    def forward(self, x, e, edge_index):\n",
    "        start, end = edge_index\n",
    "        # Aggregate edge-weighted incoming/outgoing features\n",
    "        mi = scatter_add(e[:, None] * x[start], end, dim=0, dim_size=x.shape[0])\n",
    "        mo = scatter_add(e[:, None] * x[end], start, dim=0, dim_size=x.shape[0])\n",
    "        node_inputs = torch.cat([mi, mo, x], dim=1)\n",
    "        return self.network(node_inputs)\n",
    "\n",
    "class GNNSegmentClassifier(nn.Module):\n",
    "    \"\"\"\n",
    "    Segment classification graph neural network model.\n",
    "    Consists of an input network, an edge network, and a node network.\n",
    "    \"\"\"\n",
    "    def __init__(self, input_dim=3, hidden_dim=8, n_iters=3, hidden_activation=nn.Tanh):\n",
    "        super(GNNSegmentClassifier, self).__init__()\n",
    "        self.n_iters = n_iters\n",
    "        # Setup the input network\n",
    "        self.input_network = nn.Sequential(\n",
    "            nn.Linear(input_dim, hidden_dim),\n",
    "            hidden_activation())\n",
    "        # Setup the edge network\n",
    "        self.edge_network = EdgeNetwork(input_dim+hidden_dim, hidden_dim,\n",
    "                                        hidden_activation)\n",
    "        # Setup the node layers\n",
    "        self.node_network = NodeNetwork(input_dim+hidden_dim, hidden_dim,\n",
    "                                        hidden_activation)\n",
    "\n",
    "    def forward(self, inputs):\n",
    "        \"\"\"Apply forward pass of the model\"\"\"\n",
    "        # Apply input network to get hidden representation\n",
    "        x = self.input_network(inputs.x)\n",
    "        # Shortcut connect the inputs onto the hidden representation\n",
    "        x = torch.cat([x, inputs.x], dim=-1)\n",
    "        # Loop over iterations of edge and node networks\n",
    "        for i in range(self.n_iters):\n",
    "            # Apply edge network\n",
    "            e = self.edge_network(x, inputs.edge_index)\n",
    "            # Apply node network\n",
    "            x = self.node_network(x, e, inputs.edge_index)\n",
    "            # Shortcut connect the inputs onto the hidden representation\n",
    "            x = torch.cat([x, inputs.x], dim=-1)\n",
    "        # Apply final edge network\n",
    "        return self.edge_network(x, inputs.edge_index)"
   ]
  },
  {
   "cell_type": "markdown",
   "metadata": {},
   "source": [
    "## Turning my hitgraph data into a PTGeo dataset"
   ]
  },
  {
   "cell_type": "code",
   "execution_count": 19,
   "metadata": {},
   "outputs": [],
   "source": [
    "import os\n",
    "from collections import namedtuple\n",
    "\n",
    "import numpy as np"
   ]
  },
  {
   "cell_type": "code",
   "execution_count": 20,
   "metadata": {},
   "outputs": [],
   "source": [
    "from torch_geometric.data import Batch"
   ]
  },
  {
   "cell_type": "code",
   "execution_count": 21,
   "metadata": {},
   "outputs": [],
   "source": [
    "def load_graph(filename):\n",
    "    with np.load(filename) as f:\n",
    "        x, y = f['X'], f['y']\n",
    "        Ri_rows, Ri_cols = f['Ri_rows'], f['Ri_cols']\n",
    "        Ro_rows, Ro_cols = f['Ro_rows'], f['Ro_cols']\n",
    "        n_edges = Ri_cols.shape[0]\n",
    "        edge_index = np.zeros((2, n_edges), dtype=int)\n",
    "        edge_index[0, Ro_cols] = Ro_rows\n",
    "        edge_index[1, Ri_cols] = Ri_rows\n",
    "    return x, edge_index, y\n",
    "\n",
    "class HitGraphDataset(Dataset):\n",
    "    \"\"\"PyTorch dataset specification for hit graphs\"\"\"\n",
    "\n",
    "    def __init__(self, input_dir, n_samples=None):\n",
    "        input_dir = os.path.expandvars(input_dir)\n",
    "        filenames = [os.path.join(input_dir, f) for f in os.listdir(input_dir)\n",
    "                     if f.startswith('event') and f.endswith('.npz')]\n",
    "        self.filenames = filenames if n_samples is None else filenames[:n_samples]\n",
    "\n",
    "    def __getitem__(self, index):\n",
    "        x, edge_index, y = load_graph(self.filenames[index])\n",
    "        return torch_geometric.data.Data(x=torch.from_numpy(x),\n",
    "                                         edge_index=torch.from_numpy(edge_index),\n",
    "                                         y=torch.from_numpy(y))\n",
    "\n",
    "    def __len__(self):\n",
    "        return len(self.filenames)"
   ]
  },
  {
   "cell_type": "code",
   "execution_count": 22,
   "metadata": {},
   "outputs": [],
   "source": [
    "# Data config\n",
    "n_samples = 1024\n",
    "batch_size = 2\n",
    "\n",
    "data_dir = '/global/cscratch1/sd/sfarrell/heptrkx/data/hitgraphs_small_000'"
   ]
  },
  {
   "cell_type": "code",
   "execution_count": 23,
   "metadata": {},
   "outputs": [],
   "source": [
    "dataset = HitGraphDataset(input_dir=data_dir, n_samples=n_samples)"
   ]
  },
  {
   "cell_type": "code",
   "execution_count": 24,
   "metadata": {},
   "outputs": [],
   "source": [
    "# Create a data loader\n",
    "collate_fn = Batch.from_data_list\n",
    "loader = DataLoader(dataset, batch_size=batch_size, collate_fn=collate_fn)"
   ]
  },
  {
   "cell_type": "markdown",
   "metadata": {},
   "source": [
    "## Test sparse implementation of original GNN"
   ]
  },
  {
   "cell_type": "code",
   "execution_count": 25,
   "metadata": {},
   "outputs": [],
   "source": [
    "for data in loader:\n",
    "    break"
   ]
  },
  {
   "cell_type": "code",
   "execution_count": 26,
   "metadata": {},
   "outputs": [
    {
     "data": {
      "text/plain": [
       "Batch(batch=[2645], edge_index=[2, 7542], x=[2645, 3], y=[7542])"
      ]
     },
     "execution_count": 26,
     "metadata": {},
     "output_type": "execute_result"
    }
   ],
   "source": [
    "data"
   ]
  },
  {
   "cell_type": "code",
   "execution_count": 27,
   "metadata": {},
   "outputs": [],
   "source": [
    "model2 = GNNSegmentClassifier()"
   ]
  },
  {
   "cell_type": "code",
   "execution_count": 28,
   "metadata": {},
   "outputs": [
    {
     "data": {
      "text/plain": [
       "7542"
      ]
     },
     "execution_count": 28,
     "metadata": {},
     "output_type": "execute_result"
    }
   ],
   "source": [
    "data.num_edges"
   ]
  },
  {
   "cell_type": "code",
   "execution_count": 29,
   "metadata": {},
   "outputs": [
    {
     "data": {
      "text/plain": [
       "tensor([0.6499, 0.6341, 0.6494,  ..., 0.6099, 0.6342, 0.6328],\n",
       "       grad_fn=<SqueezeBackward1>)"
      ]
     },
     "execution_count": 29,
     "metadata": {},
     "output_type": "execute_result"
    }
   ],
   "source": [
    "model2(data)"
   ]
  }
 ],
 "metadata": {
  "kernelspec": {
   "display_name": "pytorch-geometric",
   "language": "python",
   "name": "pytorch-geometric"
  },
  "language_info": {
   "codemirror_mode": {
    "name": "ipython",
    "version": 3
   },
   "file_extension": ".py",
   "mimetype": "text/x-python",
   "name": "python",
   "nbconvert_exporter": "python",
   "pygments_lexer": "ipython3",
   "version": "3.7.3"
  }
 },
 "nbformat": 4,
 "nbformat_minor": 2
}
