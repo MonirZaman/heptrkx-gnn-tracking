{
 "cells": [
  {
   "cell_type": "markdown",
   "metadata": {},
   "source": [
    "# Evaluation of Graph Neural Network segment classifier"
   ]
  },
  {
   "cell_type": "code",
   "execution_count": 1,
   "metadata": {},
   "outputs": [
    {
     "data": {
      "text/plain": [
       "'/global/u2/s/sfarrell/WorkAreas/trackml/heptrkx-gnn-tracking-dev/notebooks'"
      ]
     },
     "execution_count": 1,
     "metadata": {},
     "output_type": "execute_result"
    }
   ],
   "source": [
    "%pwd"
   ]
  },
  {
   "cell_type": "code",
   "execution_count": 2,
   "metadata": {},
   "outputs": [],
   "source": [
    "# Concurrency config\n",
    "import os\n",
    "os.environ['OMP_NUM_THREADS'] = '4'"
   ]
  },
  {
   "cell_type": "code",
   "execution_count": 3,
   "metadata": {},
   "outputs": [],
   "source": [
    "# Notebook utils\n",
    "from nb_utils import (get_test_data_loader, load_config, load_summaries,\n",
    "                      load_model, apply_model, compute_metrics,\n",
    "                      plot_train_history, draw_sample, plot_metrics)"
   ]
  },
  {
   "cell_type": "code",
   "execution_count": 4,
   "metadata": {},
   "outputs": [],
   "source": [
    "%matplotlib inline"
   ]
  },
  {
   "cell_type": "code",
   "execution_count": 5,
   "metadata": {},
   "outputs": [],
   "source": [
    "# Config path\n",
    "config_file = '../configs/mpnn_big.yaml'"
   ]
  },
  {
   "cell_type": "code",
   "execution_count": 6,
   "metadata": {},
   "outputs": [
    {
     "name": "stdout",
     "output_type": "stream",
     "text": [
      "/usr/bin/sh: module: line 1: syntax error: unexpected end of file\n",
      "/usr/bin/sh: error importing function definition for `module'\n",
      "output_dir: ${SCRATCH}/heptrkx/results/resmpnn_big_001\n",
      "\n",
      "trainer:\n",
      "    name: gnn_sparse\n",
      "    real_weight: 2.5   # 0.5 / 0.2\n",
      "    fake_weight: 0.625 # 0.5 / 0.8\n",
      "\n",
      "data:\n",
      "    name: hitgraphs_sparse\n",
      "    input_dir: ${SCRATCH}/heptrkx/data/hitgraphs_big_000\n",
      "    n_train: 32768\n",
      "    n_valid: 4096\n",
      "    batch_size: 1\n",
      "    n_workers: 4\n",
      "\n",
      "model:\n",
      "    name: mpnn\n",
      "    input_dim: 3\n",
      "    hidden_node_dim: 64\n",
      "    hidden_edge_dim: 64\n",
      "    n_graph_iters: 8\n",
      "    loss_func: 'binary_cross_entropy_with_logits'\n",
      "    optimizer: 'Adam'\n",
      "    learning_rate: 0.001\n",
      "\n",
      "training:\n",
      "    n_epochs: 96\n"
     ]
    }
   ],
   "source": [
    "!cat $config_file"
   ]
  },
  {
   "cell_type": "code",
   "execution_count": 7,
   "metadata": {},
   "outputs": [
    {
     "name": "stderr",
     "output_type": "stream",
     "text": [
      "/global/u2/s/sfarrell/WorkAreas/trackml/heptrkx-gnn-tracking-dev/notebooks/nb_utils.py:33: YAMLLoadWarning: calling yaml.load() without Loader=... is deprecated, as the default Loader is unsafe. Please read https://msg.pyyaml.org/load for full details.\n",
      "  return yaml.load(f)\n"
     ]
    }
   ],
   "source": [
    "config = load_config(config_file)\n",
    "summaries = load_summaries(config)"
   ]
  },
  {
   "cell_type": "code",
   "execution_count": 8,
   "metadata": {},
   "outputs": [
    {
     "data": {
      "text/plain": [
       "{'output_dir': '${SCRATCH}/heptrkx/results/resmpnn_big_001',\n",
       " 'trainer': {'name': 'gnn_sparse', 'real_weight': 2.5, 'fake_weight': 0.625},\n",
       " 'data': {'name': 'hitgraphs_sparse',\n",
       "  'input_dir': '${SCRATCH}/heptrkx/data/hitgraphs_big_000',\n",
       "  'n_train': 32768,\n",
       "  'n_valid': 4096,\n",
       "  'batch_size': 1,\n",
       "  'n_workers': 4},\n",
       " 'model': {'name': 'mpnn',\n",
       "  'input_dim': 3,\n",
       "  'hidden_node_dim': 64,\n",
       "  'hidden_edge_dim': 64,\n",
       "  'n_graph_iters': 8,\n",
       "  'loss_func': 'binary_cross_entropy_with_logits',\n",
       "  'optimizer': 'Adam',\n",
       "  'learning_rate': 0.001},\n",
       " 'training': {'n_epochs': 96}}"
      ]
     },
     "execution_count": 8,
     "metadata": {},
     "output_type": "execute_result"
    }
   ],
   "source": [
    "config"
   ]
  },
  {
   "cell_type": "code",
   "execution_count": 9,
   "metadata": {},
   "outputs": [
    {
     "data": {
      "text/html": [
       "<div>\n",
       "<style scoped>\n",
       "    .dataframe tbody tr th:only-of-type {\n",
       "        vertical-align: middle;\n",
       "    }\n",
       "\n",
       "    .dataframe tbody tr th {\n",
       "        vertical-align: top;\n",
       "    }\n",
       "\n",
       "    .dataframe thead th {\n",
       "        text-align: right;\n",
       "    }\n",
       "</style>\n",
       "<table border=\"1\" class=\"dataframe\">\n",
       "  <thead>\n",
       "    <tr style=\"text-align: right;\">\n",
       "      <th></th>\n",
       "      <th>epoch</th>\n",
       "      <th>lr</th>\n",
       "      <th>train_loss</th>\n",
       "      <th>train_time</th>\n",
       "      <th>valid_acc</th>\n",
       "      <th>valid_loss</th>\n",
       "      <th>valid_time</th>\n",
       "    </tr>\n",
       "  </thead>\n",
       "  <tbody>\n",
       "    <tr>\n",
       "      <th>0</th>\n",
       "      <td>0</td>\n",
       "      <td>0.001</td>\n",
       "      <td>0.157513</td>\n",
       "      <td>1890.308105</td>\n",
       "      <td>0.962340</td>\n",
       "      <td>0.094791</td>\n",
       "      <td>66.025640</td>\n",
       "    </tr>\n",
       "    <tr>\n",
       "      <th>1</th>\n",
       "      <td>1</td>\n",
       "      <td>0.001</td>\n",
       "      <td>0.087861</td>\n",
       "      <td>1884.753618</td>\n",
       "      <td>0.961377</td>\n",
       "      <td>0.102336</td>\n",
       "      <td>69.471037</td>\n",
       "    </tr>\n",
       "    <tr>\n",
       "      <th>2</th>\n",
       "      <td>2</td>\n",
       "      <td>0.001</td>\n",
       "      <td>0.076527</td>\n",
       "      <td>1872.046947</td>\n",
       "      <td>0.972168</td>\n",
       "      <td>0.073149</td>\n",
       "      <td>67.048209</td>\n",
       "    </tr>\n",
       "    <tr>\n",
       "      <th>3</th>\n",
       "      <td>3</td>\n",
       "      <td>0.001</td>\n",
       "      <td>0.073950</td>\n",
       "      <td>1875.660117</td>\n",
       "      <td>0.977933</td>\n",
       "      <td>0.060740</td>\n",
       "      <td>66.043995</td>\n",
       "    </tr>\n",
       "    <tr>\n",
       "      <th>4</th>\n",
       "      <td>4</td>\n",
       "      <td>0.001</td>\n",
       "      <td>0.064325</td>\n",
       "      <td>1858.583396</td>\n",
       "      <td>0.980450</td>\n",
       "      <td>0.055885</td>\n",
       "      <td>66.907977</td>\n",
       "    </tr>\n",
       "    <tr>\n",
       "      <th>5</th>\n",
       "      <td>5</td>\n",
       "      <td>0.001</td>\n",
       "      <td>0.057871</td>\n",
       "      <td>1854.636935</td>\n",
       "      <td>0.984397</td>\n",
       "      <td>0.046169</td>\n",
       "      <td>65.756587</td>\n",
       "    </tr>\n",
       "    <tr>\n",
       "      <th>6</th>\n",
       "      <td>6</td>\n",
       "      <td>0.001</td>\n",
       "      <td>0.053368</td>\n",
       "      <td>1833.021787</td>\n",
       "      <td>0.983432</td>\n",
       "      <td>0.049944</td>\n",
       "      <td>66.094573</td>\n",
       "    </tr>\n",
       "    <tr>\n",
       "      <th>7</th>\n",
       "      <td>7</td>\n",
       "      <td>0.001</td>\n",
       "      <td>0.049891</td>\n",
       "      <td>1932.182288</td>\n",
       "      <td>0.981798</td>\n",
       "      <td>0.051533</td>\n",
       "      <td>65.767883</td>\n",
       "    </tr>\n",
       "    <tr>\n",
       "      <th>8</th>\n",
       "      <td>8</td>\n",
       "      <td>0.001</td>\n",
       "      <td>0.047552</td>\n",
       "      <td>1850.305992</td>\n",
       "      <td>0.985311</td>\n",
       "      <td>0.041762</td>\n",
       "      <td>70.427015</td>\n",
       "    </tr>\n",
       "    <tr>\n",
       "      <th>9</th>\n",
       "      <td>9</td>\n",
       "      <td>0.001</td>\n",
       "      <td>0.046608</td>\n",
       "      <td>1863.592895</td>\n",
       "      <td>0.986703</td>\n",
       "      <td>0.039442</td>\n",
       "      <td>65.903245</td>\n",
       "    </tr>\n",
       "    <tr>\n",
       "      <th>10</th>\n",
       "      <td>10</td>\n",
       "      <td>0.001</td>\n",
       "      <td>0.075407</td>\n",
       "      <td>1880.935210</td>\n",
       "      <td>0.985599</td>\n",
       "      <td>0.042892</td>\n",
       "      <td>66.069121</td>\n",
       "    </tr>\n",
       "    <tr>\n",
       "      <th>11</th>\n",
       "      <td>11</td>\n",
       "      <td>0.001</td>\n",
       "      <td>0.044604</td>\n",
       "      <td>1891.820963</td>\n",
       "      <td>0.987875</td>\n",
       "      <td>0.036868</td>\n",
       "      <td>70.662989</td>\n",
       "    </tr>\n",
       "    <tr>\n",
       "      <th>12</th>\n",
       "      <td>12</td>\n",
       "      <td>0.001</td>\n",
       "      <td>0.047443</td>\n",
       "      <td>1922.908070</td>\n",
       "      <td>0.987655</td>\n",
       "      <td>0.036860</td>\n",
       "      <td>66.475737</td>\n",
       "    </tr>\n",
       "    <tr>\n",
       "      <th>13</th>\n",
       "      <td>13</td>\n",
       "      <td>0.001</td>\n",
       "      <td>0.042752</td>\n",
       "      <td>1895.250782</td>\n",
       "      <td>0.987218</td>\n",
       "      <td>0.038692</td>\n",
       "      <td>74.059614</td>\n",
       "    </tr>\n",
       "    <tr>\n",
       "      <th>14</th>\n",
       "      <td>14</td>\n",
       "      <td>0.001</td>\n",
       "      <td>0.041788</td>\n",
       "      <td>1891.016810</td>\n",
       "      <td>0.988590</td>\n",
       "      <td>0.034314</td>\n",
       "      <td>67.614407</td>\n",
       "    </tr>\n",
       "    <tr>\n",
       "      <th>15</th>\n",
       "      <td>15</td>\n",
       "      <td>0.001</td>\n",
       "      <td>0.041022</td>\n",
       "      <td>1890.184914</td>\n",
       "      <td>0.987098</td>\n",
       "      <td>0.038807</td>\n",
       "      <td>71.037462</td>\n",
       "    </tr>\n",
       "    <tr>\n",
       "      <th>16</th>\n",
       "      <td>16</td>\n",
       "      <td>0.001</td>\n",
       "      <td>0.041126</td>\n",
       "      <td>1871.259783</td>\n",
       "      <td>0.989463</td>\n",
       "      <td>0.033039</td>\n",
       "      <td>65.997071</td>\n",
       "    </tr>\n",
       "    <tr>\n",
       "      <th>17</th>\n",
       "      <td>17</td>\n",
       "      <td>0.001</td>\n",
       "      <td>0.040347</td>\n",
       "      <td>1859.152920</td>\n",
       "      <td>0.986847</td>\n",
       "      <td>0.039707</td>\n",
       "      <td>66.413837</td>\n",
       "    </tr>\n",
       "    <tr>\n",
       "      <th>18</th>\n",
       "      <td>18</td>\n",
       "      <td>0.001</td>\n",
       "      <td>0.039842</td>\n",
       "      <td>1903.023461</td>\n",
       "      <td>0.989248</td>\n",
       "      <td>0.033077</td>\n",
       "      <td>70.319680</td>\n",
       "    </tr>\n",
       "    <tr>\n",
       "      <th>19</th>\n",
       "      <td>19</td>\n",
       "      <td>0.001</td>\n",
       "      <td>0.039735</td>\n",
       "      <td>1874.332481</td>\n",
       "      <td>0.989228</td>\n",
       "      <td>0.033285</td>\n",
       "      <td>66.216454</td>\n",
       "    </tr>\n",
       "    <tr>\n",
       "      <th>20</th>\n",
       "      <td>20</td>\n",
       "      <td>0.001</td>\n",
       "      <td>0.039439</td>\n",
       "      <td>1877.438188</td>\n",
       "      <td>0.988659</td>\n",
       "      <td>0.034503</td>\n",
       "      <td>68.144010</td>\n",
       "    </tr>\n",
       "    <tr>\n",
       "      <th>21</th>\n",
       "      <td>21</td>\n",
       "      <td>0.001</td>\n",
       "      <td>0.039208</td>\n",
       "      <td>1870.714031</td>\n",
       "      <td>0.984912</td>\n",
       "      <td>0.043129</td>\n",
       "      <td>65.211935</td>\n",
       "    </tr>\n",
       "    <tr>\n",
       "      <th>22</th>\n",
       "      <td>22</td>\n",
       "      <td>0.001</td>\n",
       "      <td>0.038827</td>\n",
       "      <td>1858.751864</td>\n",
       "      <td>0.987630</td>\n",
       "      <td>0.038230</td>\n",
       "      <td>65.562373</td>\n",
       "    </tr>\n",
       "    <tr>\n",
       "      <th>23</th>\n",
       "      <td>23</td>\n",
       "      <td>0.001</td>\n",
       "      <td>0.038698</td>\n",
       "      <td>1867.983717</td>\n",
       "      <td>0.988875</td>\n",
       "      <td>0.033842</td>\n",
       "      <td>69.050833</td>\n",
       "    </tr>\n",
       "    <tr>\n",
       "      <th>24</th>\n",
       "      <td>24</td>\n",
       "      <td>0.001</td>\n",
       "      <td>0.038669</td>\n",
       "      <td>1863.975267</td>\n",
       "      <td>0.987763</td>\n",
       "      <td>0.037193</td>\n",
       "      <td>65.066088</td>\n",
       "    </tr>\n",
       "    <tr>\n",
       "      <th>25</th>\n",
       "      <td>25</td>\n",
       "      <td>0.001</td>\n",
       "      <td>0.038471</td>\n",
       "      <td>1867.208339</td>\n",
       "      <td>0.989226</td>\n",
       "      <td>0.032596</td>\n",
       "      <td>72.842721</td>\n",
       "    </tr>\n",
       "    <tr>\n",
       "      <th>26</th>\n",
       "      <td>26</td>\n",
       "      <td>0.001</td>\n",
       "      <td>0.039040</td>\n",
       "      <td>1893.342582</td>\n",
       "      <td>0.988726</td>\n",
       "      <td>0.034096</td>\n",
       "      <td>65.890747</td>\n",
       "    </tr>\n",
       "    <tr>\n",
       "      <th>27</th>\n",
       "      <td>27</td>\n",
       "      <td>0.001</td>\n",
       "      <td>0.037956</td>\n",
       "      <td>1873.930106</td>\n",
       "      <td>0.989529</td>\n",
       "      <td>0.031775</td>\n",
       "      <td>66.109684</td>\n",
       "    </tr>\n",
       "    <tr>\n",
       "      <th>28</th>\n",
       "      <td>28</td>\n",
       "      <td>0.001</td>\n",
       "      <td>0.038618</td>\n",
       "      <td>1997.950953</td>\n",
       "      <td>0.988202</td>\n",
       "      <td>0.036228</td>\n",
       "      <td>74.231538</td>\n",
       "    </tr>\n",
       "    <tr>\n",
       "      <th>29</th>\n",
       "      <td>29</td>\n",
       "      <td>0.001</td>\n",
       "      <td>0.037441</td>\n",
       "      <td>2088.076945</td>\n",
       "      <td>0.989656</td>\n",
       "      <td>0.031710</td>\n",
       "      <td>87.427914</td>\n",
       "    </tr>\n",
       "    <tr>\n",
       "      <th>30</th>\n",
       "      <td>30</td>\n",
       "      <td>0.001</td>\n",
       "      <td>0.037271</td>\n",
       "      <td>2384.084774</td>\n",
       "      <td>0.989366</td>\n",
       "      <td>0.032940</td>\n",
       "      <td>70.036039</td>\n",
       "    </tr>\n",
       "    <tr>\n",
       "      <th>31</th>\n",
       "      <td>31</td>\n",
       "      <td>0.001</td>\n",
       "      <td>0.037162</td>\n",
       "      <td>1978.827261</td>\n",
       "      <td>0.989847</td>\n",
       "      <td>0.031517</td>\n",
       "      <td>68.781922</td>\n",
       "    </tr>\n",
       "  </tbody>\n",
       "</table>\n",
       "</div>"
      ],
      "text/plain": [
       "    epoch     lr  train_loss   train_time  valid_acc  valid_loss  valid_time\n",
       "0       0  0.001    0.157513  1890.308105   0.962340    0.094791   66.025640\n",
       "1       1  0.001    0.087861  1884.753618   0.961377    0.102336   69.471037\n",
       "2       2  0.001    0.076527  1872.046947   0.972168    0.073149   67.048209\n",
       "3       3  0.001    0.073950  1875.660117   0.977933    0.060740   66.043995\n",
       "4       4  0.001    0.064325  1858.583396   0.980450    0.055885   66.907977\n",
       "5       5  0.001    0.057871  1854.636935   0.984397    0.046169   65.756587\n",
       "6       6  0.001    0.053368  1833.021787   0.983432    0.049944   66.094573\n",
       "7       7  0.001    0.049891  1932.182288   0.981798    0.051533   65.767883\n",
       "8       8  0.001    0.047552  1850.305992   0.985311    0.041762   70.427015\n",
       "9       9  0.001    0.046608  1863.592895   0.986703    0.039442   65.903245\n",
       "10     10  0.001    0.075407  1880.935210   0.985599    0.042892   66.069121\n",
       "11     11  0.001    0.044604  1891.820963   0.987875    0.036868   70.662989\n",
       "12     12  0.001    0.047443  1922.908070   0.987655    0.036860   66.475737\n",
       "13     13  0.001    0.042752  1895.250782   0.987218    0.038692   74.059614\n",
       "14     14  0.001    0.041788  1891.016810   0.988590    0.034314   67.614407\n",
       "15     15  0.001    0.041022  1890.184914   0.987098    0.038807   71.037462\n",
       "16     16  0.001    0.041126  1871.259783   0.989463    0.033039   65.997071\n",
       "17     17  0.001    0.040347  1859.152920   0.986847    0.039707   66.413837\n",
       "18     18  0.001    0.039842  1903.023461   0.989248    0.033077   70.319680\n",
       "19     19  0.001    0.039735  1874.332481   0.989228    0.033285   66.216454\n",
       "20     20  0.001    0.039439  1877.438188   0.988659    0.034503   68.144010\n",
       "21     21  0.001    0.039208  1870.714031   0.984912    0.043129   65.211935\n",
       "22     22  0.001    0.038827  1858.751864   0.987630    0.038230   65.562373\n",
       "23     23  0.001    0.038698  1867.983717   0.988875    0.033842   69.050833\n",
       "24     24  0.001    0.038669  1863.975267   0.987763    0.037193   65.066088\n",
       "25     25  0.001    0.038471  1867.208339   0.989226    0.032596   72.842721\n",
       "26     26  0.001    0.039040  1893.342582   0.988726    0.034096   65.890747\n",
       "27     27  0.001    0.037956  1873.930106   0.989529    0.031775   66.109684\n",
       "28     28  0.001    0.038618  1997.950953   0.988202    0.036228   74.231538\n",
       "29     29  0.001    0.037441  2088.076945   0.989656    0.031710   87.427914\n",
       "30     30  0.001    0.037271  2384.084774   0.989366    0.032940   70.036039\n",
       "31     31  0.001    0.037162  1978.827261   0.989847    0.031517   68.781922"
      ]
     },
     "execution_count": 9,
     "metadata": {},
     "output_type": "execute_result"
    }
   ],
   "source": [
    "summaries"
   ]
  },
  {
   "cell_type": "markdown",
   "metadata": {},
   "source": [
    "## Plot the Training loss and accuracy"
   ]
  },
  {
   "cell_type": "code",
   "execution_count": 10,
   "metadata": {},
   "outputs": [
    {
     "data": {
      "image/png": "[encoded data removed]",
      "text/plain": [
       "<Figure size 864x360 with 2 Axes>"
      ]
     },
     "metadata": {
      "needs_background": "light"
     },
     "output_type": "display_data"
    }
   ],
   "source": [
    "plot_train_history(summaries)"
   ]
  },
  {
   "cell_type": "markdown",
   "metadata": {},
   "source": [
    "## Load the trained model"
   ]
  },
  {
   "cell_type": "code",
   "execution_count": 11,
   "metadata": {},
   "outputs": [
    {
     "data": {
      "text/html": [
       "<div>\n",
       "<style scoped>\n",
       "    .dataframe tbody tr th:only-of-type {\n",
       "        vertical-align: middle;\n",
       "    }\n",
       "\n",
       "    .dataframe tbody tr th {\n",
       "        vertical-align: top;\n",
       "    }\n",
       "\n",
       "    .dataframe thead th {\n",
       "        text-align: right;\n",
       "    }\n",
       "</style>\n",
       "<table border=\"1\" class=\"dataframe\">\n",
       "  <thead>\n",
       "    <tr style=\"text-align: right;\">\n",
       "      <th></th>\n",
       "      <th>epoch</th>\n",
       "      <th>lr</th>\n",
       "      <th>train_loss</th>\n",
       "      <th>train_time</th>\n",
       "      <th>valid_acc</th>\n",
       "      <th>valid_loss</th>\n",
       "      <th>valid_time</th>\n",
       "    </tr>\n",
       "  </thead>\n",
       "  <tbody>\n",
       "    <tr>\n",
       "      <th>31</th>\n",
       "      <td>31</td>\n",
       "      <td>0.001</td>\n",
       "      <td>0.037162</td>\n",
       "      <td>1978.827261</td>\n",
       "      <td>0.989847</td>\n",
       "      <td>0.031517</td>\n",
       "      <td>68.781922</td>\n",
       "    </tr>\n",
       "  </tbody>\n",
       "</table>\n",
       "</div>"
      ],
      "text/plain": [
       "    epoch     lr  train_loss   train_time  valid_acc  valid_loss  valid_time\n",
       "31     31  0.001    0.037162  1978.827261   0.989847    0.031517   68.781922"
      ]
     },
     "execution_count": 11,
     "metadata": {},
     "output_type": "execute_result"
    }
   ],
   "source": [
    "# Find the best epoch\n",
    "best_summary = summaries.loc[[summaries.valid_loss.idxmin()]]\n",
    "best_summary"
   ]
  },
  {
   "cell_type": "code",
   "execution_count": 12,
   "metadata": {},
   "outputs": [
    {
     "name": "stdout",
     "output_type": "stream",
     "text": [
      "GNN(\n",
      "  (node_encoder): Sequential(\n",
      "    (0): Linear(in_features=3, out_features=64, bias=True)\n",
      "    (1): ReLU()\n",
      "  )\n",
      "  (edge_network): Sequential(\n",
      "    (0): Linear(in_features=128, out_features=64, bias=True)\n",
      "    (1): LayerNorm(torch.Size([64]), eps=1e-05, elementwise_affine=True)\n",
      "    (2): ReLU()\n",
      "    (3): Linear(in_features=64, out_features=64, bias=True)\n",
      "    (4): LayerNorm(torch.Size([64]), eps=1e-05, elementwise_affine=True)\n",
      "    (5): ReLU()\n",
      "    (6): Linear(in_features=64, out_features=64, bias=True)\n",
      "    (7): LayerNorm(torch.Size([64]), eps=1e-05, elementwise_affine=True)\n",
      "    (8): ReLU()\n",
      "    (9): Linear(in_features=64, out_features=64, bias=True)\n",
      "    (10): LayerNorm(torch.Size([64]), eps=1e-05, elementwise_affine=True)\n",
      "    (11): ReLU()\n",
      "  )\n",
      "  (node_network): Sequential(\n",
      "    (0): Linear(in_features=128, out_features=64, bias=True)\n",
      "    (1): LayerNorm(torch.Size([64]), eps=1e-05, elementwise_affine=True)\n",
      "    (2): ReLU()\n",
      "    (3): Linear(in_features=64, out_features=64, bias=True)\n",
      "    (4): LayerNorm(torch.Size([64]), eps=1e-05, elementwise_affine=True)\n",
      "    (5): ReLU()\n",
      "    (6): Linear(in_features=64, out_features=64, bias=True)\n",
      "    (7): LayerNorm(torch.Size([64]), eps=1e-05, elementwise_affine=True)\n",
      "    (8): ReLU()\n",
      "    (9): Linear(in_features=64, out_features=64, bias=True)\n",
      "    (10): LayerNorm(torch.Size([64]), eps=1e-05, elementwise_affine=True)\n",
      "    (11): ReLU()\n",
      "  )\n",
      "  (edge_classifier): Sequential(\n",
      "    (0): Linear(in_features=128, out_features=64, bias=True)\n",
      "    (1): ReLU()\n",
      "    (2): Linear(in_features=64, out_features=1, bias=True)\n",
      "  )\n",
      ")\n",
      "Parameters: 51073\n"
     ]
    }
   ],
   "source": [
    "# Load model from best epoch\n",
    "model = load_model(config, reload_epoch=best_summary.epoch).eval()\n",
    "\n",
    "print(model)\n",
    "print('Parameters: %i' % sum(p.numel() for p in model.parameters()))"
   ]
  },
  {
   "cell_type": "markdown",
   "metadata": {},
   "source": [
    "## Load the test data set"
   ]
  },
  {
   "cell_type": "code",
   "execution_count": 13,
   "metadata": {},
   "outputs": [],
   "source": [
    "import torch\n",
    "from torch.utils.data import Subset, DataLoader\n",
    "\n",
    "from torch_geometric.data import Batch\n",
    "\n",
    "from datasets.hitgraphs_sparse import HitGraphDataset\n",
    "\n",
    "from nb_utils import get_input_dir\n",
    "\n",
    "def get_dataset(config):\n",
    "    return HitGraphDataset(get_input_dir(config))\n",
    "\n",
    "def get_test_data_loader(config, n_test=16):\n",
    "    # Take the test set from the back\n",
    "    full_dataset = get_dataset(config)\n",
    "    test_indices = len(full_dataset) - 1 - torch.arange(n_test)\n",
    "    test_dataset = Subset(full_dataset, test_indices)\n",
    "    return DataLoader(test_dataset, batch_size=1, collate_fn=Batch.from_data_list)"
   ]
  },
  {
   "cell_type": "code",
   "execution_count": 14,
   "metadata": {},
   "outputs": [],
   "source": [
    "n_test = 64\n",
    "test_loader = get_test_data_loader(config, n_test=n_test)"
   ]
  },
  {
   "cell_type": "markdown",
   "metadata": {},
   "source": [
    "## Evaluate the model on the test dataset"
   ]
  },
  {
   "cell_type": "code",
   "execution_count": 15,
   "metadata": {},
   "outputs": [],
   "source": [
    "import torch\n",
    "\n",
    "@torch.no_grad()\n",
    "def apply_model(model, data_loader):\n",
    "    preds, targets = [], []\n",
    "    for batch in data_loader:\n",
    "        preds.append(torch.sigmoid(model(batch)).squeeze(0))\n",
    "        targets.append(batch.y.squeeze(0))\n",
    "    return preds, targets"
   ]
  },
  {
   "cell_type": "code",
   "execution_count": 16,
   "metadata": {},
   "outputs": [
    {
     "name": "stdout",
     "output_type": "stream",
     "text": [
      "CPU times: user 2min 33s, sys: 2.93 s, total: 2min 36s\n",
      "Wall time: 39.1 s\n"
     ]
    }
   ],
   "source": [
    "%%time\n",
    "test_preds, test_targets = apply_model(model, test_loader)"
   ]
  },
  {
   "cell_type": "code",
   "execution_count": 17,
   "metadata": {},
   "outputs": [
    {
     "name": "stdout",
     "output_type": "stream",
     "text": [
      "Test set results with threshold of 0.5\n",
      "Accuracy:  0.9899\n",
      "Precision: 0.9159\n",
      "Recall:    0.9592\n"
     ]
    }
   ],
   "source": [
    "threshold = 0.5\n",
    "test_metrics = compute_metrics(test_preds, test_targets, threshold=threshold)\n",
    "\n",
    "print('Test set results with threshold of', threshold)\n",
    "print('Accuracy:  %.4f' % test_metrics.accuracy)\n",
    "print('Precision: %.4f' % test_metrics.precision)\n",
    "print('Recall:    %.4f' % test_metrics.recall)"
   ]
  },
  {
   "cell_type": "code",
   "execution_count": 18,
   "metadata": {},
   "outputs": [
    {
     "name": "stdout",
     "output_type": "stream",
     "text": [
      "Test set results with threshold of 0.6\n",
      "Accuracy:  0.9911\n",
      "Precision: 0.9358\n",
      "Recall:    0.9521\n"
     ]
    }
   ],
   "source": [
    "threshold = 0.6\n",
    "test_metrics = compute_metrics(test_preds, test_targets, threshold=threshold)\n",
    "\n",
    "print('Test set results with threshold of', threshold)\n",
    "print('Accuracy:  %.4f' % test_metrics.accuracy)\n",
    "print('Precision: %.4f' % test_metrics.precision)\n",
    "print('Recall:    %.4f' % test_metrics.recall)"
   ]
  },
  {
   "cell_type": "code",
   "execution_count": 19,
   "metadata": {},
   "outputs": [
    {
     "name": "stdout",
     "output_type": "stream",
     "text": [
      "Test set results with threshold of 0.7\n",
      "Accuracy:  0.9920\n",
      "Precision: 0.9562\n",
      "Recall:    0.9414\n"
     ]
    }
   ],
   "source": [
    "threshold = 0.7\n",
    "test_metrics = compute_metrics(test_preds, test_targets, threshold=threshold)\n",
    "\n",
    "print('Test set results with threshold of', threshold)\n",
    "print('Accuracy:  %.4f' % test_metrics.accuracy)\n",
    "print('Precision: %.4f' % test_metrics.precision)\n",
    "print('Recall:    %.4f' % test_metrics.recall)"
   ]
  },
  {
   "cell_type": "code",
   "execution_count": 20,
   "metadata": {},
   "outputs": [
    {
     "name": "stdout",
     "output_type": "stream",
     "text": [
      "Test set results with threshold of 0.8\n",
      "Accuracy:  0.9924\n",
      "Precision: 0.9741\n",
      "Recall:    0.9278\n"
     ]
    }
   ],
   "source": [
    "threshold = 0.8\n",
    "test_metrics = compute_metrics(test_preds, test_targets, threshold=threshold)\n",
    "\n",
    "print('Test set results with threshold of', threshold)\n",
    "print('Accuracy:  %.4f' % test_metrics.accuracy)\n",
    "print('Precision: %.4f' % test_metrics.precision)\n",
    "print('Recall:    %.4f' % test_metrics.recall)"
   ]
  },
  {
   "cell_type": "code",
   "execution_count": 21,
   "metadata": {},
   "outputs": [
    {
     "data": {
      "image/png": "[encoded data removed]",
      "text/plain": [
       "<Figure size 1152x360 with 3 Axes>"
      ]
     },
     "metadata": {
      "needs_background": "light"
     },
     "output_type": "display_data"
    }
   ],
   "source": [
    "plot_metrics(test_preds, test_targets, test_metrics)"
   ]
  },
  {
   "cell_type": "markdown",
   "metadata": {},
   "source": [
    "## Visualize predictions"
   ]
  },
  {
   "cell_type": "code",
   "execution_count": 22,
   "metadata": {},
   "outputs": [],
   "source": [
    "def draw_sample(data, cmap='bwr_r', alpha_labels=True, figsize=(15, 7)):\n",
    "    # Select the i/o node features for each segment\n",
    "    feats_o = X[np.where(Ri.T)[1]]\n",
    "    feats_i = X[np.where(Ro.T)[1]]\n",
    "\n",
    "    # Prepare the figure\n",
    "    fig, (ax0, ax1) = plt.subplots(1, 2, figsize=figsize)\n",
    "    cmap = plt.get_cmap(cmap)\n",
    "\n",
    "    # Draw the hits (r, phi, z)\n",
    "    ax0.scatter(X[:,2], X[:,0], c='k')\n",
    "    ax1.scatter(X[:,1], X[:,0], c='k')\n",
    "\n",
    "    # Draw the segments\n",
    "    for j in range(y.shape[0]):\n",
    "        if alpha_labels:\n",
    "            seg_args = dict(c='k', alpha=float(y[j]))\n",
    "        else:\n",
    "            seg_args = dict(c=cmap(float(y[j])))\n",
    "        ax0.plot([feats_o[j,2], feats_i[j,2]],\n",
    "                 [feats_o[j,0], feats_i[j,0]], '-', **seg_args)\n",
    "        ax1.plot([feats_o[j,1], feats_i[j,1]],\n",
    "                 [feats_o[j,0], feats_i[j,0]], '-', **seg_args)\n",
    "    # Adjust axes\n",
    "    ax0.set_xlabel('$z$')\n",
    "    ax1.set_xlabel('$\\phi$')\n",
    "    ax0.set_ylabel('$r$')\n",
    "    ax1.set_ylabel('$r$')\n",
    "    plt.tight_layout()"
   ]
  },
  {
   "cell_type": "raw",
   "metadata": {},
   "source": [
    "%%time\n",
    "\n",
    "n_draw = 4\n",
    "for i in range(n_draw):\n",
    "    X, Ri, Ro, y = test_loader.dataset[i]\n",
    "    pred = test_preds[i].numpy()\n",
    "    draw_sample(X, Ri, Ro, pred, alpha_labels=True)"
   ]
  },
  {
   "cell_type": "raw",
   "metadata": {},
   "source": [
    "%%time\n",
    "\n",
    "n_draw = 1\n",
    "for i in range(n_draw):\n",
    "    X, Ri, Ro, y = test_loader.dataset[i]\n",
    "    pred = test_preds[i].numpy()\n",
    "    draw_sample(X, Ri, Ro, pred)\n",
    "    draw_sample(X, Ri, Ro, y)"
   ]
  }
 ],
 "metadata": {
  "kernelspec": {
   "display_name": "Python [conda env:pytorch-geometric]",
   "language": "python",
   "name": "conda-env-pytorch-geometric-py"
  },
  "language_info": {
   "codemirror_mode": {
    "name": "ipython",
    "version": 3
   },
   "file_extension": ".py",
   "mimetype": "text/x-python",
   "name": "python",
   "nbconvert_exporter": "python",
   "pygments_lexer": "ipython3",
   "version": "3.7.3"
  }
 },
 "nbformat": 4,
 "nbformat_minor": 2
}
