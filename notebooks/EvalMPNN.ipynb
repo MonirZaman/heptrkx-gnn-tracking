{
 "cells": [
  {
   "cell_type": "markdown",
   "metadata": {},
   "source": [
    "# Evaluation of Graph Neural Network segment classifier"
   ]
  },
  {
   "cell_type": "code",
   "execution_count": 1,
   "metadata": {},
   "outputs": [
    {
     "data": {
      "text/plain": [
       "'/global/u2/s/sfarrell/WorkAreas/trackml/heptrkx-gnn-tracking/notebooks'"
      ]
     },
     "execution_count": 1,
     "metadata": {},
     "output_type": "execute_result"
    }
   ],
   "source": [
    "%pwd"
   ]
  },
  {
   "cell_type": "code",
   "execution_count": 2,
   "metadata": {},
   "outputs": [],
   "source": [
    "# Concurrency config\n",
    "import os\n",
    "os.environ['OMP_NUM_THREADS'] = '4'"
   ]
  },
  {
   "cell_type": "code",
   "execution_count": 3,
   "metadata": {},
   "outputs": [],
   "source": [
    "# Notebook utils\n",
    "from nb_utils import (get_test_data_loader, load_config, load_summaries,\n",
    "                      load_model, apply_model, compute_metrics,\n",
    "                      plot_train_history, draw_sample, plot_metrics)"
   ]
  },
  {
   "cell_type": "code",
   "execution_count": 4,
   "metadata": {},
   "outputs": [],
   "source": [
    "%matplotlib inline"
   ]
  },
  {
   "cell_type": "code",
   "execution_count": 5,
   "metadata": {},
   "outputs": [],
   "source": [
    "# Config path\n",
    "config_file = '../configs/mpnn_big.yaml'"
   ]
  },
  {
   "cell_type": "code",
   "execution_count": 6,
   "metadata": {},
   "outputs": [
    {
     "name": "stdout",
     "output_type": "stream",
     "text": [
      "/usr/bin/sh: module: line 1: syntax error: unexpected end of file\n",
      "/usr/bin/sh: error importing function definition for `module'\n",
      "output_dir: ${SCRATCH}/heptrkx/results/mpnn_big_000\n",
      "\n",
      "trainer:\n",
      "    name: gnn_sparse\n",
      "    #real_weight: 5.0   # 0.5 / 0.1\n",
      "    #fake_weight: 0.555 # 0.5 / 0.9\n",
      "\n",
      "data:\n",
      "    name: hitgraphs_sparse\n",
      "    input_dir: ${SCRATCH}/heptrkx/data/hitgraphs_big_000\n",
      "    n_train: 16384 #32768\n",
      "    n_valid: 4096\n",
      "    batch_size: 1\n",
      "    n_workers: 4\n",
      "\n",
      "model:\n",
      "    name: mpnn\n",
      "    input_dim: 3\n",
      "    hidden_node_dim: 64\n",
      "    hidden_edge_dim: 64\n",
      "    n_graph_iters: 8\n",
      "    loss_func: binary_cross_entropy_with_logits\n",
      "    optimizer: Adam\n",
      "    learning_rate: 0.001\n",
      "\n",
      "training:\n",
      "    n_epochs: 4 #96\n"
     ]
    }
   ],
   "source": [
    "!cat $config_file"
   ]
  },
  {
   "cell_type": "code",
   "execution_count": 7,
   "metadata": {},
   "outputs": [
    {
     "name": "stderr",
     "output_type": "stream",
     "text": [
      "/global/u2/s/sfarrell/WorkAreas/trackml/heptrkx-gnn-tracking/notebooks/nb_utils.py:33: YAMLLoadWarning: calling yaml.load() without Loader=... is deprecated, as the default Loader is unsafe. Please read https://msg.pyyaml.org/load for full details.\n",
      "  return yaml.load(f)\n"
     ]
    }
   ],
   "source": [
    "config = load_config(config_file)\n",
    "summaries = load_summaries(config)"
   ]
  },
  {
   "cell_type": "code",
   "execution_count": 8,
   "metadata": {},
   "outputs": [
    {
     "data": {
      "text/plain": [
       "{'output_dir': '${SCRATCH}/heptrkx/results/mpnn_big_000',\n",
       " 'trainer': {'name': 'gnn_sparse'},\n",
       " 'data': {'name': 'hitgraphs_sparse',\n",
       "  'input_dir': '${SCRATCH}/heptrkx/data/hitgraphs_big_000',\n",
       "  'n_train': 16384,\n",
       "  'n_valid': 4096,\n",
       "  'batch_size': 1,\n",
       "  'n_workers': 4},\n",
       " 'model': {'name': 'mpnn',\n",
       "  'input_dim': 3,\n",
       "  'hidden_node_dim': 64,\n",
       "  'hidden_edge_dim': 64,\n",
       "  'n_graph_iters': 8,\n",
       "  'loss_func': 'binary_cross_entropy_with_logits',\n",
       "  'optimizer': 'Adam',\n",
       "  'learning_rate': 0.001},\n",
       " 'training': {'n_epochs': 4}}"
      ]
     },
     "execution_count": 8,
     "metadata": {},
     "output_type": "execute_result"
    }
   ],
   "source": [
    "config"
   ]
  },
  {
   "cell_type": "code",
   "execution_count": 9,
   "metadata": {},
   "outputs": [
    {
     "data": {
      "text/html": [
       "<div>\n",
       "<style scoped>\n",
       "    .dataframe tbody tr th:only-of-type {\n",
       "        vertical-align: middle;\n",
       "    }\n",
       "\n",
       "    .dataframe tbody tr th {\n",
       "        vertical-align: top;\n",
       "    }\n",
       "\n",
       "    .dataframe thead th {\n",
       "        text-align: right;\n",
       "    }\n",
       "</style>\n",
       "<table border=\"1\" class=\"dataframe\">\n",
       "  <thead>\n",
       "    <tr style=\"text-align: right;\">\n",
       "      <th></th>\n",
       "      <th>epoch</th>\n",
       "      <th>lr</th>\n",
       "      <th>train_loss</th>\n",
       "      <th>train_time</th>\n",
       "      <th>valid_acc</th>\n",
       "      <th>valid_loss</th>\n",
       "      <th>valid_time</th>\n",
       "    </tr>\n",
       "  </thead>\n",
       "  <tbody>\n",
       "    <tr>\n",
       "      <th>0</th>\n",
       "      <td>0</td>\n",
       "      <td>0.001</td>\n",
       "      <td>0.209133</td>\n",
       "      <td>1889.595652</td>\n",
       "      <td>0.947776</td>\n",
       "      <td>0.128996</td>\n",
       "      <td>67.140077</td>\n",
       "    </tr>\n",
       "    <tr>\n",
       "      <th>1</th>\n",
       "      <td>1</td>\n",
       "      <td>0.001</td>\n",
       "      <td>0.117020</td>\n",
       "      <td>977.298882</td>\n",
       "      <td>0.960680</td>\n",
       "      <td>0.099296</td>\n",
       "      <td>67.154917</td>\n",
       "    </tr>\n",
       "    <tr>\n",
       "      <th>2</th>\n",
       "      <td>2</td>\n",
       "      <td>0.001</td>\n",
       "      <td>0.096492</td>\n",
       "      <td>973.271460</td>\n",
       "      <td>0.966329</td>\n",
       "      <td>0.086246</td>\n",
       "      <td>70.412184</td>\n",
       "    </tr>\n",
       "    <tr>\n",
       "      <th>3</th>\n",
       "      <td>3</td>\n",
       "      <td>0.001</td>\n",
       "      <td>0.112831</td>\n",
       "      <td>967.968419</td>\n",
       "      <td>0.923374</td>\n",
       "      <td>0.173230</td>\n",
       "      <td>66.754581</td>\n",
       "    </tr>\n",
       "  </tbody>\n",
       "</table>\n",
       "</div>"
      ],
      "text/plain": [
       "   epoch     lr  train_loss   train_time  valid_acc  valid_loss  valid_time\n",
       "0      0  0.001    0.209133  1889.595652   0.947776    0.128996   67.140077\n",
       "1      1  0.001    0.117020   977.298882   0.960680    0.099296   67.154917\n",
       "2      2  0.001    0.096492   973.271460   0.966329    0.086246   70.412184\n",
       "3      3  0.001    0.112831   967.968419   0.923374    0.173230   66.754581"
      ]
     },
     "execution_count": 9,
     "metadata": {},
     "output_type": "execute_result"
    }
   ],
   "source": [
    "summaries"
   ]
  },
  {
   "cell_type": "markdown",
   "metadata": {},
   "source": [
    "## Plot the Training loss and accuracy"
   ]
  },
  {
   "cell_type": "code",
   "execution_count": 10,
   "metadata": {},
   "outputs": [
    {
     "data": {
      "image/png": "[encoded data removed]",
      "text/plain": [
       "<Figure size 864x360 with 2 Axes>"
      ]
     },
     "metadata": {
      "needs_background": "light"
     },
     "output_type": "display_data"
    }
   ],
   "source": [
    "plot_train_history(summaries)"
   ]
  },
  {
   "cell_type": "markdown",
   "metadata": {},
   "source": [
    "## Load the trained model"
   ]
  },
  {
   "cell_type": "code",
   "execution_count": 11,
   "metadata": {},
   "outputs": [
    {
     "data": {
      "text/html": [
       "<div>\n",
       "<style scoped>\n",
       "    .dataframe tbody tr th:only-of-type {\n",
       "        vertical-align: middle;\n",
       "    }\n",
       "\n",
       "    .dataframe tbody tr th {\n",
       "        vertical-align: top;\n",
       "    }\n",
       "\n",
       "    .dataframe thead th {\n",
       "        text-align: right;\n",
       "    }\n",
       "</style>\n",
       "<table border=\"1\" class=\"dataframe\">\n",
       "  <thead>\n",
       "    <tr style=\"text-align: right;\">\n",
       "      <th></th>\n",
       "      <th>epoch</th>\n",
       "      <th>lr</th>\n",
       "      <th>train_loss</th>\n",
       "      <th>train_time</th>\n",
       "      <th>valid_acc</th>\n",
       "      <th>valid_loss</th>\n",
       "      <th>valid_time</th>\n",
       "    </tr>\n",
       "  </thead>\n",
       "  <tbody>\n",
       "    <tr>\n",
       "      <th>2</th>\n",
       "      <td>2</td>\n",
       "      <td>0.001</td>\n",
       "      <td>0.096492</td>\n",
       "      <td>973.27146</td>\n",
       "      <td>0.966329</td>\n",
       "      <td>0.086246</td>\n",
       "      <td>70.412184</td>\n",
       "    </tr>\n",
       "  </tbody>\n",
       "</table>\n",
       "</div>"
      ],
      "text/plain": [
       "   epoch     lr  train_loss  train_time  valid_acc  valid_loss  valid_time\n",
       "2      2  0.001    0.096492   973.27146   0.966329    0.086246   70.412184"
      ]
     },
     "execution_count": 11,
     "metadata": {},
     "output_type": "execute_result"
    }
   ],
   "source": [
    "# Find the best epoch\n",
    "best_summary = summaries.loc[[summaries.valid_loss.idxmin()]]\n",
    "best_summary"
   ]
  },
  {
   "cell_type": "code",
   "execution_count": 12,
   "metadata": {},
   "outputs": [
    {
     "name": "stdout",
     "output_type": "stream",
     "text": [
      "GNN(\n",
      "  (node_encoder): Sequential(\n",
      "    (0): Linear(in_features=3, out_features=64, bias=True)\n",
      "    (1): ReLU()\n",
      "  )\n",
      "  (edge_network): Sequential(\n",
      "    (0): Linear(in_features=134, out_features=64, bias=True)\n",
      "    (1): LayerNorm(torch.Size([64]), eps=1e-05, elementwise_affine=True)\n",
      "    (2): ReLU()\n",
      "    (3): Linear(in_features=64, out_features=64, bias=True)\n",
      "    (4): LayerNorm(torch.Size([64]), eps=1e-05, elementwise_affine=True)\n",
      "    (5): ReLU()\n",
      "    (6): Linear(in_features=64, out_features=64, bias=True)\n",
      "    (7): LayerNorm(torch.Size([64]), eps=1e-05, elementwise_affine=True)\n",
      "    (8): ReLU()\n",
      "    (9): Linear(in_features=64, out_features=64, bias=True)\n",
      "    (10): LayerNorm(torch.Size([64]), eps=1e-05, elementwise_affine=True)\n",
      "    (11): ReLU()\n",
      "  )\n",
      "  (node_network): Sequential(\n",
      "    (0): Linear(in_features=131, out_features=64, bias=True)\n",
      "    (1): LayerNorm(torch.Size([64]), eps=1e-05, elementwise_affine=True)\n",
      "    (2): ReLU()\n",
      "    (3): Linear(in_features=64, out_features=64, bias=True)\n",
      "    (4): LayerNorm(torch.Size([64]), eps=1e-05, elementwise_affine=True)\n",
      "    (5): ReLU()\n",
      "    (6): Linear(in_features=64, out_features=64, bias=True)\n",
      "    (7): LayerNorm(torch.Size([64]), eps=1e-05, elementwise_affine=True)\n",
      "    (8): ReLU()\n",
      "    (9): Linear(in_features=64, out_features=64, bias=True)\n",
      "    (10): LayerNorm(torch.Size([64]), eps=1e-05, elementwise_affine=True)\n",
      "    (11): ReLU()\n",
      "  )\n",
      "  (edge_classifier): Sequential(\n",
      "    (0): Linear(in_features=128, out_features=64, bias=True)\n",
      "    (1): ReLU()\n",
      "    (2): Linear(in_features=64, out_features=1, bias=True)\n",
      "  )\n",
      ")\n",
      "Parameters: 51649\n"
     ]
    }
   ],
   "source": [
    "# Load model from best epoch\n",
    "model = load_model(config, reload_epoch=best_summary.epoch).eval()\n",
    "\n",
    "print(model)\n",
    "print('Parameters: %i' % sum(p.numel() for p in model.parameters()))"
   ]
  },
  {
   "cell_type": "markdown",
   "metadata": {},
   "source": [
    "## Load the test data set"
   ]
  },
  {
   "cell_type": "code",
   "execution_count": 13,
   "metadata": {},
   "outputs": [],
   "source": [
    "import torch\n",
    "from torch.utils.data import Subset, DataLoader\n",
    "\n",
    "from torch_geometric.data import Batch\n",
    "\n",
    "from datasets.hitgraphs_sparse import HitGraphDataset\n",
    "\n",
    "from nb_utils import get_input_dir\n",
    "\n",
    "def get_dataset(config):\n",
    "    return HitGraphDataset(get_input_dir(config))\n",
    "\n",
    "def get_test_data_loader(config, n_test=16):\n",
    "    # Take the test set from the back\n",
    "    full_dataset = get_dataset(config)\n",
    "    test_indices = len(full_dataset) - 1 - torch.arange(n_test)\n",
    "    test_dataset = Subset(full_dataset, test_indices)\n",
    "    return DataLoader(test_dataset, batch_size=1, collate_fn=Batch.from_data_list)"
   ]
  },
  {
   "cell_type": "code",
   "execution_count": 14,
   "metadata": {},
   "outputs": [],
   "source": [
    "n_test = 64\n",
    "test_loader = get_test_data_loader(config, n_test=n_test)"
   ]
  },
  {
   "cell_type": "markdown",
   "metadata": {},
   "source": [
    "## Evaluate the model on the test dataset"
   ]
  },
  {
   "cell_type": "code",
   "execution_count": 15,
   "metadata": {},
   "outputs": [],
   "source": [
    "import torch\n",
    "\n",
    "@torch.no_grad()\n",
    "def apply_model(model, data_loader):\n",
    "    preds, targets = [], []\n",
    "    for batch in data_loader:\n",
    "        preds.append(torch.sigmoid(model(batch)).squeeze(0))\n",
    "        targets.append(batch.y.squeeze(0))\n",
    "    return preds, targets"
   ]
  },
  {
   "cell_type": "code",
   "execution_count": 16,
   "metadata": {},
   "outputs": [
    {
     "name": "stdout",
     "output_type": "stream",
     "text": [
      "CPU times: user 2min 46s, sys: 3.67 s, total: 2min 50s\n",
      "Wall time: 43.3 s\n"
     ]
    }
   ],
   "source": [
    "%%time\n",
    "test_preds, test_targets = apply_model(model, test_loader)"
   ]
  },
  {
   "cell_type": "code",
   "execution_count": 17,
   "metadata": {},
   "outputs": [
    {
     "name": "stdout",
     "output_type": "stream",
     "text": [
      "Test set results with threshold of 0.5\n",
      "Accuracy:  0.9668\n",
      "Precision: 0.8358\n",
      "Recall:    0.7163\n"
     ]
    }
   ],
   "source": [
    "threshold = 0.5\n",
    "test_metrics = compute_metrics(test_preds, test_targets, threshold=threshold)\n",
    "\n",
    "print('Test set results with threshold of', threshold)\n",
    "print('Accuracy:  %.4f' % test_metrics.accuracy)\n",
    "print('Precision: %.4f' % test_metrics.precision)\n",
    "print('Recall:    %.4f' % test_metrics.recall)"
   ]
  },
  {
   "cell_type": "code",
   "execution_count": 18,
   "metadata": {},
   "outputs": [
    {
     "name": "stdout",
     "output_type": "stream",
     "text": [
      "Test set results with threshold of 0.6\n",
      "Accuracy:  0.9658\n",
      "Precision: 0.8846\n",
      "Recall:    0.6482\n"
     ]
    }
   ],
   "source": [
    "threshold = 0.6\n",
    "test_metrics = compute_metrics(test_preds, test_targets, threshold=threshold)\n",
    "\n",
    "print('Test set results with threshold of', threshold)\n",
    "print('Accuracy:  %.4f' % test_metrics.accuracy)\n",
    "print('Precision: %.4f' % test_metrics.precision)\n",
    "print('Recall:    %.4f' % test_metrics.recall)"
   ]
  },
  {
   "cell_type": "code",
   "execution_count": 19,
   "metadata": {},
   "outputs": [
    {
     "name": "stdout",
     "output_type": "stream",
     "text": [
      "Test set results with threshold of 0.7\n",
      "Accuracy:  0.9630\n",
      "Precision: 0.9268\n",
      "Recall:    0.5726\n"
     ]
    }
   ],
   "source": [
    "threshold = 0.7\n",
    "test_metrics = compute_metrics(test_preds, test_targets, threshold=threshold)\n",
    "\n",
    "print('Test set results with threshold of', threshold)\n",
    "print('Accuracy:  %.4f' % test_metrics.accuracy)\n",
    "print('Precision: %.4f' % test_metrics.precision)\n",
    "print('Recall:    %.4f' % test_metrics.recall)"
   ]
  },
  {
   "cell_type": "code",
   "execution_count": 20,
   "metadata": {},
   "outputs": [
    {
     "name": "stdout",
     "output_type": "stream",
     "text": [
      "Test set results with threshold of 0.8\n",
      "Accuracy:  0.9573\n",
      "Precision: 0.9587\n",
      "Recall:    0.4756\n"
     ]
    }
   ],
   "source": [
    "threshold = 0.8\n",
    "test_metrics = compute_metrics(test_preds, test_targets, threshold=threshold)\n",
    "\n",
    "print('Test set results with threshold of', threshold)\n",
    "print('Accuracy:  %.4f' % test_metrics.accuracy)\n",
    "print('Precision: %.4f' % test_metrics.precision)\n",
    "print('Recall:    %.4f' % test_metrics.recall)"
   ]
  },
  {
   "cell_type": "code",
   "execution_count": 21,
   "metadata": {},
   "outputs": [
    {
     "data": {
      "image/png": "[encoded data removed]",
      "text/plain": [
       "<Figure size 1152x360 with 3 Axes>"
      ]
     },
     "metadata": {
      "needs_background": "light"
     },
     "output_type": "display_data"
    }
   ],
   "source": [
    "plot_metrics(test_preds, test_targets, test_metrics)"
   ]
  },
  {
   "cell_type": "markdown",
   "metadata": {},
   "source": [
    "## Visualize predictions"
   ]
  },
  {
   "cell_type": "code",
   "execution_count": 22,
   "metadata": {},
   "outputs": [],
   "source": [
    "def draw_sample(data, cmap='bwr_r', alpha_labels=True, figsize=(15, 7)):\n",
    "    # Select the i/o node features for each segment\n",
    "    feats_o = X[np.where(Ri.T)[1]]\n",
    "    feats_i = X[np.where(Ro.T)[1]]\n",
    "\n",
    "    # Prepare the figure\n",
    "    fig, (ax0, ax1) = plt.subplots(1, 2, figsize=figsize)\n",
    "    cmap = plt.get_cmap(cmap)\n",
    "\n",
    "    # Draw the hits (r, phi, z)\n",
    "    ax0.scatter(X[:,2], X[:,0], c='k')\n",
    "    ax1.scatter(X[:,1], X[:,0], c='k')\n",
    "\n",
    "    # Draw the segments\n",
    "    for j in range(y.shape[0]):\n",
    "        if alpha_labels:\n",
    "            seg_args = dict(c='k', alpha=float(y[j]))\n",
    "        else:\n",
    "            seg_args = dict(c=cmap(float(y[j])))\n",
    "        ax0.plot([feats_o[j,2], feats_i[j,2]],\n",
    "                 [feats_o[j,0], feats_i[j,0]], '-', **seg_args)\n",
    "        ax1.plot([feats_o[j,1], feats_i[j,1]],\n",
    "                 [feats_o[j,0], feats_i[j,0]], '-', **seg_args)\n",
    "    # Adjust axes\n",
    "    ax0.set_xlabel('$z$')\n",
    "    ax1.set_xlabel('$\\phi$')\n",
    "    ax0.set_ylabel('$r$')\n",
    "    ax1.set_ylabel('$r$')\n",
    "    plt.tight_layout()"
   ]
  },
  {
   "cell_type": "raw",
   "metadata": {},
   "source": [
    "%%time\n",
    "\n",
    "n_draw = 4\n",
    "for i in range(n_draw):\n",
    "    X, Ri, Ro, y = test_loader.dataset[i]\n",
    "    pred = test_preds[i].numpy()\n",
    "    draw_sample(X, Ri, Ro, pred, alpha_labels=True)"
   ]
  },
  {
   "cell_type": "raw",
   "metadata": {},
   "source": [
    "%%time\n",
    "\n",
    "n_draw = 1\n",
    "for i in range(n_draw):\n",
    "    X, Ri, Ro, y = test_loader.dataset[i]\n",
    "    pred = test_preds[i].numpy()\n",
    "    draw_sample(X, Ri, Ro, pred)\n",
    "    draw_sample(X, Ri, Ro, y)"
   ]
  }
 ],
 "metadata": {
  "kernelspec": {
   "display_name": "Python [conda env:pytorch-geometric]",
   "language": "python",
   "name": "conda-env-pytorch-geometric-py"
  },
  "language_info": {
   "codemirror_mode": {
    "name": "ipython",
    "version": 3
   },
   "file_extension": ".py",
   "mimetype": "text/x-python",
   "name": "python",
   "nbconvert_exporter": "python",
   "pygments_lexer": "ipython3",
   "version": "3.7.3"
  }
 },
 "nbformat": 4,
 "nbformat_minor": 2
}
