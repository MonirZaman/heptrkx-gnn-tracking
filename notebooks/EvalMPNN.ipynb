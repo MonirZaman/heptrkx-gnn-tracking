{
 "cells": [
  {
   "cell_type": "markdown",
   "metadata": {},
   "source": [
    "# Evaluation of Graph Neural Network segment classifier"
   ]
  },
  {
   "cell_type": "code",
   "execution_count": 1,
   "metadata": {},
   "outputs": [
    {
     "data": {
      "text/plain": [
       "'/global/u2/s/sfarrell/WorkAreas/trackml/heptrkx-gnn-tracking/notebooks'"
      ]
     },
     "execution_count": 1,
     "metadata": {},
     "output_type": "execute_result"
    }
   ],
   "source": [
    "%pwd"
   ]
  },
  {
   "cell_type": "code",
   "execution_count": 2,
   "metadata": {},
   "outputs": [],
   "source": [
    "# Concurrency config\n",
    "import os\n",
    "os.environ['OMP_NUM_THREADS'] = '4'"
   ]
  },
  {
   "cell_type": "code",
   "execution_count": 3,
   "metadata": {},
   "outputs": [],
   "source": [
    "# Notebook utils\n",
    "from nb_utils import (get_test_data_loader, load_config, load_summaries,\n",
    "                      load_model, apply_model, compute_metrics,\n",
    "                      plot_train_history, draw_sample, plot_metrics)"
   ]
  },
  {
   "cell_type": "code",
   "execution_count": 4,
   "metadata": {},
   "outputs": [],
   "source": [
    "%matplotlib inline"
   ]
  },
  {
   "cell_type": "code",
   "execution_count": 5,
   "metadata": {},
   "outputs": [],
   "source": [
    "# Config path\n",
    "config_file = '../configs/mpnn_big.yaml'"
   ]
  },
  {
   "cell_type": "code",
   "execution_count": 6,
   "metadata": {},
   "outputs": [
    {
     "name": "stdout",
     "output_type": "stream",
     "text": [
      "/usr/bin/sh: module: line 1: syntax error: unexpected end of file\n",
      "/usr/bin/sh: error importing function definition for `module'\n",
      "output_dir: ${SCRATCH}/heptrkx/results/mpnn_big_008\n",
      "\n",
      "trainer:\n",
      "    name: gnn_sparse\n",
      "\n",
      "data:\n",
      "    name: hitgraphs_sparse\n",
      "    input_dir: ${SCRATCH}/heptrkx/data/hitgraphs_big_000\n",
      "    n_train: 32768\n",
      "    n_valid: 4096\n",
      "    real_weight: 3. #5.0\n",
      "    batch_size: 4\n",
      "    n_workers: 4\n",
      "\n",
      "model:\n",
      "    name: mpnn\n",
      "    input_dim: 3\n",
      "    hidden_node_dim: 64\n",
      "    hidden_edge_dim: 64\n",
      "    layer_norm: true\n",
      "    n_graph_iters: 8\n",
      "    loss_func: binary_cross_entropy_with_logits\n",
      "    optimizer: Adam\n",
      "    learning_rate: 0.001\n",
      "\n",
      "training:\n",
      "    n_epochs: 96\n"
     ]
    }
   ],
   "source": [
    "!cat $config_file"
   ]
  },
  {
   "cell_type": "code",
   "execution_count": 7,
   "metadata": {},
   "outputs": [
    {
     "name": "stderr",
     "output_type": "stream",
     "text": [
      "/global/u2/s/sfarrell/WorkAreas/trackml/heptrkx-gnn-tracking/notebooks/nb_utils.py:33: YAMLLoadWarning: calling yaml.load() without Loader=... is deprecated, as the default Loader is unsafe. Please read https://msg.pyyaml.org/load for full details.\n",
      "  return yaml.load(f)\n"
     ]
    }
   ],
   "source": [
    "config = load_config(config_file)\n",
    "summaries = load_summaries(config)"
   ]
  },
  {
   "cell_type": "code",
   "execution_count": 8,
   "metadata": {},
   "outputs": [
    {
     "data": {
      "text/plain": [
       "{'output_dir': '${SCRATCH}/heptrkx/results/mpnn_big_008',\n",
       " 'trainer': {'name': 'gnn_sparse'},\n",
       " 'data': {'name': 'hitgraphs_sparse',\n",
       "  'input_dir': '${SCRATCH}/heptrkx/data/hitgraphs_big_000',\n",
       "  'n_train': 32768,\n",
       "  'n_valid': 4096,\n",
       "  'real_weight': 3.0,\n",
       "  'batch_size': 4,\n",
       "  'n_workers': 4},\n",
       " 'model': {'name': 'mpnn',\n",
       "  'input_dim': 3,\n",
       "  'hidden_node_dim': 64,\n",
       "  'hidden_edge_dim': 64,\n",
       "  'layer_norm': True,\n",
       "  'n_graph_iters': 8,\n",
       "  'loss_func': 'binary_cross_entropy_with_logits',\n",
       "  'optimizer': 'Adam',\n",
       "  'learning_rate': 0.001},\n",
       " 'training': {'n_epochs': 96}}"
      ]
     },
     "execution_count": 8,
     "metadata": {},
     "output_type": "execute_result"
    }
   ],
   "source": [
    "config"
   ]
  },
  {
   "cell_type": "code",
   "execution_count": 9,
   "metadata": {},
   "outputs": [
    {
     "data": {
      "text/html": [
       "<div>\n",
       "<style scoped>\n",
       "    .dataframe tbody tr th:only-of-type {\n",
       "        vertical-align: middle;\n",
       "    }\n",
       "\n",
       "    .dataframe tbody tr th {\n",
       "        vertical-align: top;\n",
       "    }\n",
       "\n",
       "    .dataframe thead th {\n",
       "        text-align: right;\n",
       "    }\n",
       "</style>\n",
       "<table border=\"1\" class=\"dataframe\">\n",
       "  <thead>\n",
       "    <tr style=\"text-align: right;\">\n",
       "      <th></th>\n",
       "      <th>epoch</th>\n",
       "      <th>lr</th>\n",
       "      <th>train_loss</th>\n",
       "      <th>train_time</th>\n",
       "      <th>valid_acc</th>\n",
       "      <th>valid_loss</th>\n",
       "      <th>valid_time</th>\n",
       "    </tr>\n",
       "  </thead>\n",
       "  <tbody>\n",
       "    <tr>\n",
       "      <th>0</th>\n",
       "      <td>0</td>\n",
       "      <td>0.001</td>\n",
       "      <td>0.305049</td>\n",
       "      <td>1333.276266</td>\n",
       "      <td>0.890516</td>\n",
       "      <td>0.216979</td>\n",
       "      <td>55.296534</td>\n",
       "    </tr>\n",
       "    <tr>\n",
       "      <th>1</th>\n",
       "      <td>1</td>\n",
       "      <td>0.001</td>\n",
       "      <td>0.182124</td>\n",
       "      <td>1331.384070</td>\n",
       "      <td>0.921810</td>\n",
       "      <td>0.170538</td>\n",
       "      <td>56.128950</td>\n",
       "    </tr>\n",
       "    <tr>\n",
       "      <th>2</th>\n",
       "      <td>2</td>\n",
       "      <td>0.001</td>\n",
       "      <td>0.149289</td>\n",
       "      <td>1331.973064</td>\n",
       "      <td>0.940087</td>\n",
       "      <td>0.135442</td>\n",
       "      <td>55.877414</td>\n",
       "    </tr>\n",
       "    <tr>\n",
       "      <th>3</th>\n",
       "      <td>3</td>\n",
       "      <td>0.001</td>\n",
       "      <td>0.128449</td>\n",
       "      <td>1331.965026</td>\n",
       "      <td>0.952344</td>\n",
       "      <td>0.115585</td>\n",
       "      <td>56.239305</td>\n",
       "    </tr>\n",
       "    <tr>\n",
       "      <th>4</th>\n",
       "      <td>4</td>\n",
       "      <td>0.001</td>\n",
       "      <td>0.121854</td>\n",
       "      <td>1330.010979</td>\n",
       "      <td>0.951610</td>\n",
       "      <td>0.119740</td>\n",
       "      <td>55.610987</td>\n",
       "    </tr>\n",
       "    <tr>\n",
       "      <th>5</th>\n",
       "      <td>5</td>\n",
       "      <td>0.001</td>\n",
       "      <td>0.111954</td>\n",
       "      <td>1330.617561</td>\n",
       "      <td>0.957718</td>\n",
       "      <td>0.102424</td>\n",
       "      <td>56.495992</td>\n",
       "    </tr>\n",
       "    <tr>\n",
       "      <th>6</th>\n",
       "      <td>6</td>\n",
       "      <td>0.001</td>\n",
       "      <td>0.108859</td>\n",
       "      <td>1330.095839</td>\n",
       "      <td>0.959947</td>\n",
       "      <td>0.098213</td>\n",
       "      <td>55.802989</td>\n",
       "    </tr>\n",
       "    <tr>\n",
       "      <th>7</th>\n",
       "      <td>7</td>\n",
       "      <td>0.001</td>\n",
       "      <td>0.104073</td>\n",
       "      <td>1328.034324</td>\n",
       "      <td>0.950500</td>\n",
       "      <td>0.117485</td>\n",
       "      <td>55.975467</td>\n",
       "    </tr>\n",
       "    <tr>\n",
       "      <th>8</th>\n",
       "      <td>8</td>\n",
       "      <td>0.001</td>\n",
       "      <td>0.102224</td>\n",
       "      <td>1331.653148</td>\n",
       "      <td>0.965697</td>\n",
       "      <td>0.086791</td>\n",
       "      <td>55.754929</td>\n",
       "    </tr>\n",
       "    <tr>\n",
       "      <th>9</th>\n",
       "      <td>9</td>\n",
       "      <td>0.001</td>\n",
       "      <td>0.098586</td>\n",
       "      <td>1330.900415</td>\n",
       "      <td>0.961744</td>\n",
       "      <td>0.093198</td>\n",
       "      <td>56.777056</td>\n",
       "    </tr>\n",
       "    <tr>\n",
       "      <th>10</th>\n",
       "      <td>10</td>\n",
       "      <td>0.001</td>\n",
       "      <td>0.331300</td>\n",
       "      <td>1331.268947</td>\n",
       "      <td>0.907892</td>\n",
       "      <td>0.391463</td>\n",
       "      <td>56.303132</td>\n",
       "    </tr>\n",
       "    <tr>\n",
       "      <th>11</th>\n",
       "      <td>11</td>\n",
       "      <td>0.001</td>\n",
       "      <td>0.443398</td>\n",
       "      <td>1330.163430</td>\n",
       "      <td>0.871533</td>\n",
       "      <td>0.387926</td>\n",
       "      <td>55.487246</td>\n",
       "    </tr>\n",
       "    <tr>\n",
       "      <th>12</th>\n",
       "      <td>12</td>\n",
       "      <td>0.001</td>\n",
       "      <td>0.306402</td>\n",
       "      <td>1326.150829</td>\n",
       "      <td>0.869273</td>\n",
       "      <td>0.242043</td>\n",
       "      <td>55.394733</td>\n",
       "    </tr>\n",
       "  </tbody>\n",
       "</table>\n",
       "</div>"
      ],
      "text/plain": [
       "    epoch     lr  train_loss   train_time  valid_acc  valid_loss  valid_time\n",
       "0       0  0.001    0.305049  1333.276266   0.890516    0.216979   55.296534\n",
       "1       1  0.001    0.182124  1331.384070   0.921810    0.170538   56.128950\n",
       "2       2  0.001    0.149289  1331.973064   0.940087    0.135442   55.877414\n",
       "3       3  0.001    0.128449  1331.965026   0.952344    0.115585   56.239305\n",
       "4       4  0.001    0.121854  1330.010979   0.951610    0.119740   55.610987\n",
       "5       5  0.001    0.111954  1330.617561   0.957718    0.102424   56.495992\n",
       "6       6  0.001    0.108859  1330.095839   0.959947    0.098213   55.802989\n",
       "7       7  0.001    0.104073  1328.034324   0.950500    0.117485   55.975467\n",
       "8       8  0.001    0.102224  1331.653148   0.965697    0.086791   55.754929\n",
       "9       9  0.001    0.098586  1330.900415   0.961744    0.093198   56.777056\n",
       "10     10  0.001    0.331300  1331.268947   0.907892    0.391463   56.303132\n",
       "11     11  0.001    0.443398  1330.163430   0.871533    0.387926   55.487246\n",
       "12     12  0.001    0.306402  1326.150829   0.869273    0.242043   55.394733"
      ]
     },
     "execution_count": 9,
     "metadata": {},
     "output_type": "execute_result"
    }
   ],
   "source": [
    "summaries"
   ]
  },
  {
   "cell_type": "markdown",
   "metadata": {},
   "source": [
    "## Plot the Training loss and accuracy"
   ]
  },
  {
   "cell_type": "code",
   "execution_count": 10,
   "metadata": {},
   "outputs": [
    {
     "data": {
      "image/png": "[encoded data removed]",
      "text/plain": [
       "<Figure size 864x360 with 2 Axes>"
      ]
     },
     "metadata": {
      "needs_background": "light"
     },
     "output_type": "display_data"
    }
   ],
   "source": [
    "plot_train_history(summaries)"
   ]
  },
  {
   "cell_type": "markdown",
   "metadata": {},
   "source": [
    "## Load the trained model"
   ]
  },
  {
   "cell_type": "code",
   "execution_count": 11,
   "metadata": {},
   "outputs": [
    {
     "data": {
      "text/html": [
       "<div>\n",
       "<style scoped>\n",
       "    .dataframe tbody tr th:only-of-type {\n",
       "        vertical-align: middle;\n",
       "    }\n",
       "\n",
       "    .dataframe tbody tr th {\n",
       "        vertical-align: top;\n",
       "    }\n",
       "\n",
       "    .dataframe thead th {\n",
       "        text-align: right;\n",
       "    }\n",
       "</style>\n",
       "<table border=\"1\" class=\"dataframe\">\n",
       "  <thead>\n",
       "    <tr style=\"text-align: right;\">\n",
       "      <th></th>\n",
       "      <th>epoch</th>\n",
       "      <th>lr</th>\n",
       "      <th>train_loss</th>\n",
       "      <th>train_time</th>\n",
       "      <th>valid_acc</th>\n",
       "      <th>valid_loss</th>\n",
       "      <th>valid_time</th>\n",
       "    </tr>\n",
       "  </thead>\n",
       "  <tbody>\n",
       "    <tr>\n",
       "      <th>8</th>\n",
       "      <td>8</td>\n",
       "      <td>0.001</td>\n",
       "      <td>0.102224</td>\n",
       "      <td>1331.653148</td>\n",
       "      <td>0.965697</td>\n",
       "      <td>0.086791</td>\n",
       "      <td>55.754929</td>\n",
       "    </tr>\n",
       "  </tbody>\n",
       "</table>\n",
       "</div>"
      ],
      "text/plain": [
       "   epoch     lr  train_loss   train_time  valid_acc  valid_loss  valid_time\n",
       "8      8  0.001    0.102224  1331.653148   0.965697    0.086791   55.754929"
      ]
     },
     "execution_count": 11,
     "metadata": {},
     "output_type": "execute_result"
    }
   ],
   "source": [
    "# Find the best epoch\n",
    "best_summary = summaries.loc[[summaries.valid_loss.idxmin()]]\n",
    "best_summary"
   ]
  },
  {
   "cell_type": "code",
   "execution_count": 12,
   "metadata": {},
   "outputs": [
    {
     "name": "stdout",
     "output_type": "stream",
     "text": [
      "GNN(\n",
      "  (node_encoder): Sequential(\n",
      "    (0): Linear(in_features=3, out_features=64, bias=True)\n",
      "    (1): ReLU()\n",
      "    (2): Linear(in_features=64, out_features=64, bias=True)\n",
      "    (3): ReLU()\n",
      "  )\n",
      "  (edge_network): Sequential(\n",
      "    (0): Linear(in_features=134, out_features=64, bias=True)\n",
      "    (1): LayerNorm(torch.Size([64]), eps=1e-05, elementwise_affine=True)\n",
      "    (2): ReLU()\n",
      "    (3): Linear(in_features=64, out_features=64, bias=True)\n",
      "    (4): LayerNorm(torch.Size([64]), eps=1e-05, elementwise_affine=True)\n",
      "    (5): ReLU()\n",
      "    (6): Linear(in_features=64, out_features=64, bias=True)\n",
      "    (7): LayerNorm(torch.Size([64]), eps=1e-05, elementwise_affine=True)\n",
      "    (8): ReLU()\n",
      "    (9): Linear(in_features=64, out_features=64, bias=True)\n",
      "    (10): LayerNorm(torch.Size([64]), eps=1e-05, elementwise_affine=True)\n",
      "    (11): ReLU()\n",
      "  )\n",
      "  (node_network): Sequential(\n",
      "    (0): Linear(in_features=131, out_features=64, bias=True)\n",
      "    (1): LayerNorm(torch.Size([64]), eps=1e-05, elementwise_affine=True)\n",
      "    (2): ReLU()\n",
      "    (3): Linear(in_features=64, out_features=64, bias=True)\n",
      "    (4): LayerNorm(torch.Size([64]), eps=1e-05, elementwise_affine=True)\n",
      "    (5): ReLU()\n",
      "    (6): Linear(in_features=64, out_features=64, bias=True)\n",
      "    (7): LayerNorm(torch.Size([64]), eps=1e-05, elementwise_affine=True)\n",
      "    (8): ReLU()\n",
      "    (9): Linear(in_features=64, out_features=64, bias=True)\n",
      "    (10): LayerNorm(torch.Size([64]), eps=1e-05, elementwise_affine=True)\n",
      "    (11): ReLU()\n",
      "  )\n",
      "  (edge_classifier): Sequential(\n",
      "    (0): Linear(in_features=128, out_features=64, bias=True)\n",
      "    (1): ReLU()\n",
      "    (2): Linear(in_features=64, out_features=1, bias=True)\n",
      "  )\n",
      ")\n",
      "Parameters: 55809\n"
     ]
    }
   ],
   "source": [
    "# Load model from best epoch\n",
    "model = load_model(config, reload_epoch=best_summary.epoch).eval()\n",
    "\n",
    "print(model)\n",
    "print('Parameters: %i' % sum(p.numel() for p in model.parameters()))"
   ]
  },
  {
   "cell_type": "markdown",
   "metadata": {},
   "source": [
    "## Load the test data set"
   ]
  },
  {
   "cell_type": "code",
   "execution_count": 13,
   "metadata": {},
   "outputs": [],
   "source": [
    "import torch\n",
    "from torch.utils.data import Subset, DataLoader\n",
    "\n",
    "from torch_geometric.data import Batch\n",
    "\n",
    "from datasets.hitgraphs_sparse import HitGraphDataset\n",
    "\n",
    "from nb_utils import get_input_dir\n",
    "\n",
    "def get_dataset(config):\n",
    "    return HitGraphDataset(get_input_dir(config))\n",
    "\n",
    "def get_test_data_loader(config, n_test=16):\n",
    "    # Take the test set from the back\n",
    "    full_dataset = get_dataset(config)\n",
    "    test_indices = len(full_dataset) - 1 - torch.arange(n_test)\n",
    "    test_dataset = Subset(full_dataset, test_indices)\n",
    "    return DataLoader(test_dataset, batch_size=1, collate_fn=Batch.from_data_list)"
   ]
  },
  {
   "cell_type": "code",
   "execution_count": 14,
   "metadata": {},
   "outputs": [],
   "source": [
    "n_test = 64\n",
    "test_loader = get_test_data_loader(config, n_test=n_test)"
   ]
  },
  {
   "cell_type": "markdown",
   "metadata": {},
   "source": [
    "## Evaluate the model on the test dataset"
   ]
  },
  {
   "cell_type": "code",
   "execution_count": 15,
   "metadata": {},
   "outputs": [],
   "source": [
    "import torch\n",
    "\n",
    "@torch.no_grad()\n",
    "def apply_model(model, data_loader):\n",
    "    preds, targets = [], []\n",
    "    for batch in data_loader:\n",
    "        preds.append(torch.sigmoid(model(batch)).squeeze(0))\n",
    "        targets.append(batch.y.squeeze(0))\n",
    "    return preds, targets"
   ]
  },
  {
   "cell_type": "code",
   "execution_count": 16,
   "metadata": {},
   "outputs": [
    {
     "name": "stdout",
     "output_type": "stream",
     "text": [
      "CPU times: user 2min 48s, sys: 4.81 s, total: 2min 53s\n",
      "Wall time: 44.3 s\n"
     ]
    }
   ],
   "source": [
    "%%time\n",
    "test_preds, test_targets = apply_model(model, test_loader)"
   ]
  },
  {
   "cell_type": "code",
   "execution_count": 17,
   "metadata": {},
   "outputs": [
    {
     "name": "stdout",
     "output_type": "stream",
     "text": [
      "Test set results with threshold of 0.5\n",
      "Accuracy:  0.9665\n",
      "Precision: 0.7265\n",
      "Recall:    0.9175\n"
     ]
    }
   ],
   "source": [
    "threshold = 0.5\n",
    "test_metrics = compute_metrics(test_preds, test_targets, threshold=threshold)\n",
    "\n",
    "print('Test set results with threshold of', threshold)\n",
    "print('Accuracy:  %.4f' % test_metrics.accuracy)\n",
    "print('Precision: %.4f' % test_metrics.precision)\n",
    "print('Recall:    %.4f' % test_metrics.recall)"
   ]
  },
  {
   "cell_type": "code",
   "execution_count": 18,
   "metadata": {},
   "outputs": [
    {
     "name": "stdout",
     "output_type": "stream",
     "text": [
      "Test set results with threshold of 0.6\n",
      "Accuracy:  0.9707\n",
      "Precision: 0.7684\n",
      "Recall:    0.8963\n"
     ]
    }
   ],
   "source": [
    "threshold = 0.6\n",
    "test_metrics = compute_metrics(test_preds, test_targets, threshold=threshold)\n",
    "\n",
    "print('Test set results with threshold of', threshold)\n",
    "print('Accuracy:  %.4f' % test_metrics.accuracy)\n",
    "print('Precision: %.4f' % test_metrics.precision)\n",
    "print('Recall:    %.4f' % test_metrics.recall)"
   ]
  },
  {
   "cell_type": "code",
   "execution_count": 19,
   "metadata": {},
   "outputs": [
    {
     "name": "stdout",
     "output_type": "stream",
     "text": [
      "Test set results with threshold of 0.7\n",
      "Accuracy:  0.9740\n",
      "Precision: 0.8155\n",
      "Recall:    0.8636\n"
     ]
    }
   ],
   "source": [
    "threshold = 0.7\n",
    "test_metrics = compute_metrics(test_preds, test_targets, threshold=threshold)\n",
    "\n",
    "print('Test set results with threshold of', threshold)\n",
    "print('Accuracy:  %.4f' % test_metrics.accuracy)\n",
    "print('Precision: %.4f' % test_metrics.precision)\n",
    "print('Recall:    %.4f' % test_metrics.recall)"
   ]
  },
  {
   "cell_type": "code",
   "execution_count": 20,
   "metadata": {},
   "outputs": [
    {
     "name": "stdout",
     "output_type": "stream",
     "text": [
      "Test set results with threshold of 0.8\n",
      "Accuracy:  0.9758\n",
      "Precision: 0.8748\n",
      "Recall:    0.8059\n"
     ]
    }
   ],
   "source": [
    "threshold = 0.8\n",
    "test_metrics = compute_metrics(test_preds, test_targets, threshold=threshold)\n",
    "\n",
    "print('Test set results with threshold of', threshold)\n",
    "print('Accuracy:  %.4f' % test_metrics.accuracy)\n",
    "print('Precision: %.4f' % test_metrics.precision)\n",
    "print('Recall:    %.4f' % test_metrics.recall)"
   ]
  },
  {
   "cell_type": "code",
   "execution_count": 21,
   "metadata": {},
   "outputs": [
    {
     "data": {
      "image/png": "[encoded data removed]",
      "text/plain": [
       "<Figure size 1152x360 with 3 Axes>"
      ]
     },
     "metadata": {
      "needs_background": "light"
     },
     "output_type": "display_data"
    }
   ],
   "source": [
    "plot_metrics(test_preds, test_targets, test_metrics)"
   ]
  },
  {
   "cell_type": "markdown",
   "metadata": {},
   "source": [
    "## Visualize predictions"
   ]
  },
  {
   "cell_type": "code",
   "execution_count": 22,
   "metadata": {},
   "outputs": [],
   "source": [
    "def draw_sample(data, cmap='bwr_r', alpha_labels=True, figsize=(15, 7)):\n",
    "    # Select the i/o node features for each segment\n",
    "    feats_o = X[np.where(Ri.T)[1]]\n",
    "    feats_i = X[np.where(Ro.T)[1]]\n",
    "\n",
    "    # Prepare the figure\n",
    "    fig, (ax0, ax1) = plt.subplots(1, 2, figsize=figsize)\n",
    "    cmap = plt.get_cmap(cmap)\n",
    "\n",
    "    # Draw the hits (r, phi, z)\n",
    "    ax0.scatter(X[:,2], X[:,0], c='k')\n",
    "    ax1.scatter(X[:,1], X[:,0], c='k')\n",
    "\n",
    "    # Draw the segments\n",
    "    for j in range(y.shape[0]):\n",
    "        if alpha_labels:\n",
    "            seg_args = dict(c='k', alpha=float(y[j]))\n",
    "        else:\n",
    "            seg_args = dict(c=cmap(float(y[j])))\n",
    "        ax0.plot([feats_o[j,2], feats_i[j,2]],\n",
    "                 [feats_o[j,0], feats_i[j,0]], '-', **seg_args)\n",
    "        ax1.plot([feats_o[j,1], feats_i[j,1]],\n",
    "                 [feats_o[j,0], feats_i[j,0]], '-', **seg_args)\n",
    "    # Adjust axes\n",
    "    ax0.set_xlabel('$z$')\n",
    "    ax1.set_xlabel('$\\phi$')\n",
    "    ax0.set_ylabel('$r$')\n",
    "    ax1.set_ylabel('$r$')\n",
    "    plt.tight_layout()"
   ]
  },
  {
   "cell_type": "raw",
   "metadata": {},
   "source": [
    "%%time\n",
    "\n",
    "n_draw = 4\n",
    "for i in range(n_draw):\n",
    "    X, Ri, Ro, y = test_loader.dataset[i]\n",
    "    pred = test_preds[i].numpy()\n",
    "    draw_sample(X, Ri, Ro, pred, alpha_labels=True)"
   ]
  },
  {
   "cell_type": "raw",
   "metadata": {},
   "source": [
    "%%time\n",
    "\n",
    "n_draw = 1\n",
    "for i in range(n_draw):\n",
    "    X, Ri, Ro, y = test_loader.dataset[i]\n",
    "    pred = test_preds[i].numpy()\n",
    "    draw_sample(X, Ri, Ro, pred)\n",
    "    draw_sample(X, Ri, Ro, y)"
   ]
  }
 ],
 "metadata": {
  "kernelspec": {
   "display_name": "Python [conda env:pytorch-geometric]",
   "language": "python",
   "name": "conda-env-pytorch-geometric-py"
  },
  "language_info": {
   "codemirror_mode": {
    "name": "ipython",
    "version": 3
   },
   "file_extension": ".py",
   "mimetype": "text/x-python",
   "name": "python",
   "nbconvert_exporter": "python",
   "pygments_lexer": "ipython3",
   "version": "3.7.3"
  }
 },
 "nbformat": 4,
 "nbformat_minor": 2
}
